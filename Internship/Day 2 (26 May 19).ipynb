{
 "cells": [
  {
   "cell_type": "markdown",
   "metadata": {},
   "source": [
    "# Problem solving and Programming\n",
    "## Day No : 2\n",
    "## Date      : 26-May-2019"
   ]
  },
  {
   "cell_type": "code",
   "execution_count": null,
   "metadata": {},
   "outputs": [],
   "source": []
  },
  {
   "cell_type": "markdown",
   "metadata": {},
   "source": [
    "# Problem 1:\n",
    "#### Problem Statement :\n",
    "  Compute the total number of unique apps from the dataset\n",
    "\n"
   ]
  },
  {
   "cell_type": "code",
   "execution_count": 2,
   "metadata": {},
   "outputs": [],
   "source": [
    "import pandas as pd\n",
    "import numpy as np\n",
    "\n",
    "def readCSV(filename):\n",
    "    df=pd.read_csv(filename)\n",
    "    return df\n",
    "\n",
    "df=readCSV('AppleStore.csv')"
   ]
  },
  {
   "cell_type": "code",
   "execution_count": 24,
   "metadata": {},
   "outputs": [
    {
     "name": "stdout",
     "output_type": "stream",
     "text": [
      "7195\n"
     ]
    }
   ],
   "source": [
    "def generateAppsReport(AppData):\n",
    "    category,genere= [], []\n",
    "    df = pd.read_csv(AppData)\n",
    "    for i in df.values:\n",
    "         genere.append(i[2])\n",
    "            \n",
    "    category, freq = np.unique(genere,return_counts = True) \n",
    "    \n",
    "    print(len(category))\n",
    "    \n",
    "generateAppsReport('AppleStore.csv')\n",
    "    "
   ]
  },
  {
   "cell_type": "code",
   "execution_count": null,
   "metadata": {},
   "outputs": [],
   "source": []
  },
  {
   "cell_type": "markdown",
   "metadata": {},
   "source": [
    "# Problem 2:\n",
    "#### Problem Statement :\n",
    "\n",
    "Print the Top 10 apps along with their rating based on the number of downloads(rating_count_tot)\n"
   ]
  },
  {
   "cell_type": "code",
   "execution_count": 15,
   "metadata": {},
   "outputs": [
    {
     "name": "stdout",
     "output_type": "stream",
     "text": [
      "top 10 apps are ['Facebook', 'Instagram', 'Clash of Clans', 'Temple Run', 'Pandora - Music & Radio', 'Pinterest', 'Bible', 'Candy Crush Saga', 'Spotify Music', 'Angry Birds']\n"
     ]
    }
   ],
   "source": [
    "def generateAppsReport(AppData):\n",
    "    app,downloads,required,top=[],[],[],[]\n",
    "    df = pd.read_csv(AppData)\n",
    "    for i in df.values:\n",
    "         app.append(i[2])\n",
    "            \n",
    "    for i in range(0,len(app)):\n",
    "        downloads.append(df.iat[i,6])\n",
    "        \n",
    "    #downloads.sort()\n",
    "    \n",
    "    index=np.argsort(downloads)\n",
    "    \n",
    "    for i in index:\n",
    "        required.append(df.iat[i,2])\n",
    "        \n",
    "    top = required[len(required)-1:len(required)-11:-1]\n",
    "    print(\"top 10 apps are\",top)\n",
    "    \n",
    "    \n",
    "        \n",
    "    \n",
    "generateAppsReport('AppleStore.csv')\n",
    "    "
   ]
  },
  {
   "cell_type": "code",
   "execution_count": null,
   "metadata": {},
   "outputs": [],
   "source": []
  },
  {
   "cell_type": "markdown",
   "metadata": {},
   "source": [
    "# Problem 3:\n",
    "#### Problem Statement :\n",
    "\n",
    "Categorise the dataset based on content rating into the following\n",
    "* Number of apps with content rating 4+\n",
    "* Number of apps with content rating 9+\n",
    "* Number of apps with content rating 12+\n",
    "* Number of apps with content rating 17+\n",
    "\n",
    "\n"
   ]
  },
  {
   "cell_type": "code",
   "execution_count": 50,
   "metadata": {},
   "outputs": [
    {
     "name": "stdout",
     "output_type": "stream",
     "text": [
      "Number of apps with content rating 4+   4433\n",
      "Number of apps with content rating 9+   987\n",
      "Number of apps with content rating 12+   1155\n",
      "Number of apps with content rating 17+   622\n"
     ]
    }
   ],
   "source": [
    "def generateAppsReport(AppData):\n",
    "    content,rating1,rating2,rating3, rating4 = [], [],[],[],[]\n",
    "    df = pd.read_csv(AppData)\n",
    "    for i in df.values:\n",
    "         content.append(i[11])\n",
    "            \n",
    "    for i in range(0,len(content)):\n",
    "        if(df.iat[i,11]=='4+'):\n",
    "            rating1.append(df.iat[i,2])\n",
    "            \n",
    "        elif(df.iat[i,11]=='9+'):\n",
    "            rating2.append(df.iat[i,2])\n",
    "            \n",
    "        elif(df.iat[i,11]=='12+'):\n",
    "            rating3.append(df.iat[i,2])\n",
    "            \n",
    "        elif(df.iat[i,11]=='17+'):\n",
    "            rating4.append(df.iat[i,2])\n",
    "            \n",
    "            \n",
    "    print(\"Number of apps with content rating 4+  \", len(rating1))\n",
    "    print(\"Number of apps with content rating 9+  \", len(rating2))\n",
    "    print(\"Number of apps with content rating 12+  \", len(rating3))\n",
    "    print(\"Number of apps with content rating 17+  \", len(rating4))\n",
    "    \n",
    "    \n",
    "generateAppsReport('AppleStore.csv')"
   ]
  },
  {
   "cell_type": "code",
   "execution_count": null,
   "metadata": {},
   "outputs": [],
   "source": []
  },
  {
   "cell_type": "code",
   "execution_count": null,
   "metadata": {},
   "outputs": [],
   "source": []
  }
 ],
 "metadata": {
  "kernelspec": {
   "display_name": "Python 3",
   "language": "python",
   "name": "python3"
  },
  "language_info": {
   "codemirror_mode": {
    "name": "ipython",
    "version": 3
   },
   "file_extension": ".py",
   "mimetype": "text/x-python",
   "name": "python",
   "nbconvert_exporter": "python",
   "pygments_lexer": "ipython3",
   "version": "3.7.3"
  }
 },
 "nbformat": 4,
 "nbformat_minor": 2
}
