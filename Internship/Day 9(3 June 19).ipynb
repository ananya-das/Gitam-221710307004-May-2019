{
 "cells": [
  {
   "cell_type": "markdown",
   "metadata": {},
   "source": [
    "# Day - 9\n",
    "# Date - 3 June 2019\n",
    "\n"
   ]
  },
  {
   "cell_type": "markdown",
   "metadata": {},
   "source": [
    "# Statistics Fundamentals\n",
    "\n"
   ]
  },
  {
   "cell_type": "markdown",
   "metadata": {},
   "source": [
    "# Task 1:\n",
    "* print the first five rows using DataFrame.head() and the last five rows with DataFrame.tail().\n",
    "* Find the number of rows and columns using DataFrame.shape.\n"
   ]
  },
  {
   "cell_type": "code",
   "execution_count": 6,
   "metadata": {},
   "outputs": [
    {
     "name": "stdout",
     "output_type": "stream",
     "text": [
      "              Name Team  Pos  Height  Weight        BMI Birth_Place  \\\n",
      "0    Aerial Powers  DAL    F     183    71.0  21.200991          US   \n",
      "1      Alana Beard   LA  G/F     185    73.0  21.329438          US   \n",
      "2     Alex Bentley  CON    G     170    69.0  23.875433          US   \n",
      "3  Alex Montgomery  SAN  G/F     185    84.0  24.543462          US   \n",
      "4     Alexis Jones  MIN    G     175    78.0  25.469388          US   \n",
      "\n",
      "           Birthdate  Age         College  ... OREB  DREB  REB  AST  STL  BLK  \\\n",
      "0   January 17, 1994   23  Michigan State  ...    6    22   28   12    3    6   \n",
      "1       May 14, 1982   35            Duke  ...   19    82  101   72   63   13   \n",
      "2   October 27, 1990   26      Penn State  ...    4    36   40   78   22    3   \n",
      "3  December 11, 1988   28    Georgia Tech  ...   35   134  169   65   20   10   \n",
      "4     August 5, 1994   23          Baylor  ...    3     9   12   12    7    0   \n",
      "\n",
      "   TO  PTS  DD2  TD3  \n",
      "0  12   93    0    0  \n",
      "1  40  217    0    0  \n",
      "2  24  218    0    0  \n",
      "3  38  188    2    0  \n",
      "4  14   50    0    0  \n",
      "\n",
      "[5 rows x 32 columns]\n",
      "                 Name Team  Pos  Height  Weight        BMI Birth_Place  \\\n",
      "138     Tiffany Hayes  ATL    G     178    70.0  22.093170          US   \n",
      "139   Tiffany Jackson   LA    F     191    84.0  23.025685          US   \n",
      "140  Tiffany Mitchell  IND    G     175    69.0  22.530612          US   \n",
      "141      Tina Charles   NY  F/C     193    84.0  22.550941          US   \n",
      "142     Yvonne Turner  PHO    G     175    59.0  19.265306          US   \n",
      "\n",
      "              Birthdate  Age         College  ... OREB  DREB  REB  AST  STL  \\\n",
      "138  September 20, 1989   27     Connecticut  ...   28    89  117   69   37   \n",
      "139      April 26, 1985   32           Texas  ...    5    18   23    3    1   \n",
      "140  September 23, 1984   32  South Carolina  ...   16    70   86   39   31   \n",
      "141        May 12, 1988   29     Connecticut  ...   56   212  268   75   21   \n",
      "142    October 13, 1987   29        Nebraska  ...   11    13   24   30   18   \n",
      "\n",
      "     BLK  TO  PTS  DD2  TD3  \n",
      "138    8  50  467    0    0  \n",
      "139    3   8   28    0    0  \n",
      "140    5  40  277    0    0  \n",
      "141   22  71  582   11    0  \n",
      "142    1  32  151    0    0  \n",
      "\n",
      "[5 rows x 32 columns]\n",
      "The numbers of rows and columns is:  (143, 32)\n"
     ]
    }
   ],
   "source": [
    "import pandas as pd\n",
    "import numpy as np\n",
    "def statistics(filename):\n",
    "    df = pd.read_csv(filename)\n",
    "    print(df.head(5))\n",
    "    print(df.tail(5))\n",
    "    print(\"The numbers of rows and columns is: \",df.shape)\n",
    "    \n",
    "statistics('WNBA Stats.csv')"
   ]
  },
  {
   "cell_type": "code",
   "execution_count": null,
   "metadata": {},
   "outputs": [],
   "source": []
  },
  {
   "cell_type": "markdown",
   "metadata": {},
   "source": [
    "## Task2:\n",
    "Use the Games Played column to find the maximum number of games played by a player in the season 2016-2017. The data set contains all the players that had at least one game, so it's a population relative to our question. Find this parameter, and assign the result to a variable named parameter.\n"
   ]
  },
  {
   "cell_type": "code",
   "execution_count": 57,
   "metadata": {},
   "outputs": [
    {
     "name": "stdout",
     "output_type": "stream",
     "text": [
      "The maximum game played by the players is:  32\n",
      "{'Aerial Powers': 8,\n",
      " 'Alana Beard': 30,\n",
      " 'Alex Bentley': 26,\n",
      " 'Alex Montgomery': 31,\n",
      " 'Alexis Jones': 24,\n",
      " 'Alexis Peterson': 14,\n",
      " 'Alexis Prince': 16,\n",
      " 'Allie Quigley': 26,\n",
      " 'Allisha Gray': 30,\n",
      " 'Allison Hightower': 7,\n",
      " 'Alysha Clark': 30,\n",
      " 'Alyssa Thomas': 28,\n",
      " 'Amanda Zahui B.': 25,\n",
      " 'Amber Harris': 22,\n",
      " 'Aneika Henry': 4,\n",
      " 'Angel Robinson': 15,\n",
      " 'Asia Taylor': 20,\n",
      " 'Bashaara Graves': 5,\n",
      " 'Breanna Lewis': 12,\n",
      " 'Breanna Stewart': 29,\n",
      " 'Bria Hartley': 29,\n",
      " 'Bria Holmes': 28,\n",
      " 'Briann January': 25,\n",
      " 'Brionna Jones': 19,\n",
      " 'Brittany Boyd': 2,\n",
      " 'Brittney Griner': 22,\n",
      " 'Brittney Sykes': 30,\n",
      " 'Camille Little': 30,\n",
      " 'Candace Parker': 29,\n",
      " 'Candice Dupree': 29,\n",
      " 'Cappie Pondexter': 24,\n",
      " 'Carolyn Swords': 26,\n",
      " 'Cayla George': 28,\n",
      " 'Chelsea Gray': 30,\n",
      " 'Cheyenne Parker': 23,\n",
      " 'Clarissa dos Santos': 7,\n",
      " 'Courtney Paris': 16,\n",
      " 'Courtney Vandersloot': 22,\n",
      " 'Courtney Williams': 29,\n",
      " 'Crystal Langhorne': 30,\n",
      " 'Damiris Dantas': 30,\n",
      " 'Danielle Adams': 18,\n",
      " 'Danielle Robinson': 28,\n",
      " 'Dearica Hamby': 31,\n",
      " 'Devereaux Peters': 28,\n",
      " 'Diana Taurasi': 20,\n",
      " 'Elena Delle Donne': 30,\n",
      " 'Elizabeth Williams': 30,\n",
      " 'Emma Cannon': 18,\n",
      " 'Emma Meesseman': 23,\n",
      " 'Epiphanny Prince': 26,\n",
      " 'Erica Wheeler': 30,\n",
      " 'Erlana Larkins': 20,\n",
      " 'Essence Carson': 15,\n",
      " 'Evelyn Akhator': 30,\n",
      " 'Glory Johnson': 4,\n",
      " 'Imani Boyette': 29,\n",
      " 'Isabelle Harrison': 31,\n",
      " 'Ivory Latta': 29,\n",
      " 'Jantel Lavender': 28,\n",
      " 'Jasmine Thomas': 27,\n",
      " 'Jazmon Gwathmey': 24,\n",
      " 'Jeanette Pohlen': 25,\n",
      " 'Jennifer Hamson': 10,\n",
      " 'Jessica Breland': 10,\n",
      " 'Jewell Loyd': 29,\n",
      " 'Jia Perkins': 30,\n",
      " 'Jonquel Jones': 29,\n",
      " 'Jordan Hooper': 29,\n",
      " 'Kaela Davis': 23,\n",
      " 'Kahleah Copper': 29,\n",
      " 'Kaleena Mosqueda-Lewis': 29,\n",
      " 'Karima Christmas-Kelly': 14,\n",
      " 'Kayla Alexander': 30,\n",
      " 'Kayla McBride': 31,\n",
      " 'Kayla Pedersen': 27,\n",
      " 'Kayla Thornton': 21,\n",
      " 'Keisha Hampton': 30,\n",
      " 'Kelsey Plum': 28,\n",
      " 'Kia Vaughn': 23,\n",
      " 'Kiah Stokes': 29,\n",
      " 'Kristi Toliver': 29,\n",
      " 'Krystal Thomas': 29,\n",
      " 'Lanay Montgomery': 7,\n",
      " 'Layshia Clarendon': 30,\n",
      " 'Leilani Mitchell': 30,\n",
      " 'Lindsay Allen': 23,\n",
      " 'Lindsay Whalen': 22,\n",
      " 'Lynetta Kizer': 20,\n",
      " 'Maimouna Diarra': 9,\n",
      " 'Makayla Epps': 14,\n",
      " 'Marissa Coleman': 30,\n",
      " 'Matee Ajavon': 27,\n",
      " 'Maya Moore': 29,\n",
      " 'Monique Currie': 32,\n",
      " 'Morgan Tuck': 17,\n",
      " 'Moriah Jefferson': 21,\n",
      " 'Natalie Achonwa': 30,\n",
      " 'Natasha Cloud': 24,\n",
      " 'Natasha Howard': 29,\n",
      " 'Nayo Raincock-Ekunwe': 27,\n",
      " 'Nia Coffey': 25,\n",
      " 'Nneka Ogwumike': 30,\n",
      " 'Noelle Quinn': 29,\n",
      " 'Odyssey Sims': 27,\n",
      " 'Plenette Pierson': 29,\n",
      " 'Rachel Banham': 26,\n",
      " 'Ramu Tokashiki': 29,\n",
      " 'Rebecca Allen': 28,\n",
      " 'Rebekkah Brunson': 26,\n",
      " 'Renee Montgomery': 29,\n",
      " 'Riquna Williams': 23,\n",
      " 'Sami Whitcomb': 29,\n",
      " 'Sancho Lyttle': 25,\n",
      " 'Sandrine Gruda': 4,\n",
      " 'Saniya Chong': 29,\n",
      " 'Seimone Augustus': 27,\n",
      " 'Sequoia Holmes': 24,\n",
      " 'Shatori Walker-Kimbrough': 22,\n",
      " 'Shavonte Zellous': 29,\n",
      " 'Shay Murphy': 23,\n",
      " 'Shekinna Stricklen': 29,\n",
      " 'Shenise Johnson': 14,\n",
      " 'Skylar Diggins-Smith': 30,\n",
      " 'Stefanie Dolson': 28,\n",
      " 'Stephanie Talbot': 30,\n",
      " 'Sue Bird': 27,\n",
      " 'Sugar Rodgers': 28,\n",
      " 'Sydney Colson': 25,\n",
      " 'Sydney Wiese': 25,\n",
      " 'Sylvia Fowles': 29,\n",
      " 'Tamera Young': 31,\n",
      " 'Tayler Hill': 18,\n",
      " 'Temi Fagbenle': 17,\n",
      " 'Theresa Plaisance': 30,\n",
      " 'Tianna Hawkins': 29,\n",
      " 'Tierra Ruffin-Pratt': 29,\n",
      " 'Tiffany Hayes': 29,\n",
      " 'Tiffany Jackson': 22,\n",
      " 'Tiffany Mitchell': 27,\n",
      " 'Tina Charles': 29,\n",
      " 'Yvonne Turner': 30,\n",
      " 'Érika de Souza': 30}\n"
     ]
    }
   ],
   "source": [
    "import pandas as pd\n",
    "import numpy as np\n",
    "import pprint\n",
    "class basketball():\n",
    "    def __init__(self,filename):\n",
    "        self.df = pd.read_csv(filename)\n",
    "        self.dict = {}\n",
    "        \n",
    "    def required(self):\n",
    "        \n",
    "        games_played = [self.df['Games Played'].values]\n",
    "               \n",
    "        players = [self.df['Name'].values]\n",
    "        gamePlay = games_played[0]\n",
    "        \n",
    "        parameter = max(gamePlay)\n",
    "        print(\"The maximum game played by the players is: \",parameter)\n",
    "                \n",
    "        j=0\n",
    "        for i in players[0]:\n",
    "            self.dict[i] = gamePlay[j]\n",
    "            j+=1\n",
    "            \n",
    "        pprint.pprint(self.dict)  \n",
    "        \n",
    "series = basketball('WNBA Stats.csv')\n",
    "series.required()"
   ]
  },
  {
   "cell_type": "code",
   "execution_count": null,
   "metadata": {},
   "outputs": [],
   "source": []
  },
  {
   "cell_type": "markdown",
   "metadata": {},
   "source": [
    "# Task3:\n",
    "Using the Series.sample() method, sample randomly 30 players from the population, and assign the result to a variable named sample.\n",
    "* When calling Series.sample(), use the the argument random_state = 1."
   ]
  },
  {
   "cell_type": "code",
   "execution_count": 59,
   "metadata": {},
   "outputs": [
    {
     "name": "stdout",
     "output_type": "stream",
     "text": [
      "The sampling error is:  2\n"
     ]
    }
   ],
   "source": [
    "import pandas as pd\n",
    "import numpy as np\n",
    "import pprint\n",
    "class basketball():\n",
    "    def __init__(self,filename):\n",
    "        self.df = pd.read_csv(filename)\n",
    "        \n",
    "    def required(self):        \n",
    "        games_played = [self.df['Games Played'].values]\n",
    "    \n",
    "        gamePlay = games_played[0]\n",
    "        parameter = max(gamePlay)\n",
    "        \n",
    "        game = self.df['Games Played'].sample(n=30, random_state=1)  #generating 30 random games played value\n",
    "        \n",
    "        statistic = max(game)\n",
    "        \n",
    "        sampling_error = parameter - statistic\n",
    "        print(\"The sampling error is: \",sampling_error)\n",
    "\n",
    "        \n",
    "series = basketball('WNBA Stats.csv')\n",
    "series.required()"
   ]
  },
  {
   "cell_type": "code",
   "execution_count": null,
   "metadata": {},
   "outputs": [],
   "source": []
  },
  {
   "cell_type": "markdown",
   "metadata": {},
   "source": [
    "# Task 4:\n",
    "\n",
    "Using simple random sampling, take 100 samples from our WNBA data set, and for each sample measure the average points scored by a player during the 2016-2017 season. For each of the 100 iterations of a for loop:\n",
    "* Sample 10 values from the PTS column.\n",
    "* Compute the mean of this sample made of 10 values from the PTS column, and append the result to a list"
   ]
  },
  {
   "cell_type": "code",
   "execution_count": 75,
   "metadata": {},
   "outputs": [
    {
     "name": "stdout",
     "output_type": "stream",
     "text": [
      "[145.1, 185.4, 140.4, 293.7, 172.7, 124.9, 187.8, 157.0, 188.9, 282.0, 241.5, 178.1, 157.0, 301.4, 212.9, 115.0, 135.3, 197.2, 182.5, 236.8, 145.9, 255.9, 161.2, 184.1, 213.6, 139.7, 176.3, 148.5, 118.2, 166.8, 188.3, 140.9, 182.2, 178.9, 187.1, 174.4, 126.6, 204.5, 156.0, 152.1, 193.6, 232.4, 235.1, 181.6, 230.3, 182.2, 229.4, 225.6, 203.6, 177.1, 157.4, 140.8, 147.4, 176.1, 224.5, 220.5, 132.4, 175.8, 244.3, 160.1, 244.7, 294.3, 127.1, 209.3, 173.0, 159.9, 249.9, 145.3, 144.9, 186.1, 172.9, 248.9, 137.4, 137.3, 176.0, 286.7, 258.5, 138.5, 188.5, 135.5, 178.1, 185.3, 252.0, 242.5, 253.7, 183.6, 172.7, 170.3, 148.4, 174.0, 143.9, 275.3, 152.6, 215.6, 179.8, 200.2, 177.3, 213.2, 187.2, 153.1]\n"
     ]
    }
   ],
   "source": [
    "import pandas as pd\n",
    "import numpy as np\n",
    "\n",
    "class basketball():\n",
    "    def __init__(self,filename):\n",
    "        self.df = pd.read_csv(filename)\n",
    "        self.req_list =[]\n",
    "        \n",
    "    def required(self): \n",
    "        for i in range(0,100):\n",
    "            avg = 0\n",
    "            points = self.df['PTS'].sample(n=10, random_state=i)\n",
    "            avg = sum(points)/len(points)\n",
    "            self.req_list.append(avg)\n",
    "        \n",
    "        print(self.req_list)\n",
    "            \n",
    "       \n",
    "        \n",
    "series = basketball('WNBA Stats.csv')\n",
    "series.required()"
   ]
  },
  {
   "cell_type": "code",
   "execution_count": null,
   "metadata": {},
   "outputs": [],
   "source": []
  },
  {
   "cell_type": "markdown",
   "metadata": {},
   "source": [
    "# Task 5:\n",
    "Display the discrepancy between the parameter of interest (the mean of the PTS column) and the statistics obtained in the previous step.\n",
    "* Using plt.scatter(), display all the 100 sample means using a scatter plot. For the x-axis, use integers from 1 to 100 to designate the sample number. Use the y-axis for the sample means.\n",
    "* Using plt.axhline(), draw a horizontal line that represents the average number of points in the population.\n"
   ]
  },
  {
   "cell_type": "code",
   "execution_count": 89,
   "metadata": {},
   "outputs": [
    {
     "data": {
      "image/png": "[encoded data removed]",
      "text/plain": [
       "<Figure size 432x288 with 1 Axes>"
      ]
     },
     "metadata": {
      "needs_background": "light"
     },
     "output_type": "display_data"
    }
   ],
   "source": [
    "import matplotlib.pyplot as plt\n",
    "import pandas as pd\n",
    "import numpy as np\n",
    "\n",
    "class basketball():\n",
    "    def __init__(self,filename):\n",
    "        self.df = pd.read_csv(filename)\n",
    "        self.req_list,self.x =[],[]\n",
    "        \n",
    "    def required(self): \n",
    "        for i in range(0,100):\n",
    "            avg = 0\n",
    "            points = self.df['PTS'].sample(n=10, random_state=i)\n",
    "            avg = sum(points)/len(points)\n",
    "            self.req_list.append(avg)\n",
    "            \n",
    "        mean = sum(self.req_list)/len(self.req_list)\n",
    "            \n",
    "        for i in range(0,100):\n",
    "            self.x.append(i)\n",
    "            \n",
    "        arealist = np.pi * 10\n",
    "        colorlist = np.random.rand(len(self.req_list))\n",
    "        plt.scatter(self.x,self.req_list,s=arealist,c=colorlist)\n",
    "        plt.axhline(y=mean,linewidth=2, color='r')\n",
    "            \n",
    "       \n",
    "        \n",
    "series = basketball('WNBA Stats.csv')\n",
    "series.required()"
   ]
  },
  {
   "cell_type": "code",
   "execution_count": null,
   "metadata": {},
   "outputs": [],
   "source": []
  }
 ],
 "metadata": {
  "kernelspec": {
   "display_name": "Python 3",
   "language": "python",
   "name": "python3"
  },
  "language_info": {
   "codemirror_mode": {
    "name": "ipython",
    "version": 3
   },
   "file_extension": ".py",
   "mimetype": "text/x-python",
   "name": "python",
   "nbconvert_exporter": "python",
   "pygments_lexer": "ipython3",
   "version": "3.7.3"
  }
 },
 "nbformat": 4,
 "nbformat_minor": 2
}
