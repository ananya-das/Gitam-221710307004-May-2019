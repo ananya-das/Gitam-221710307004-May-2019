{
 "cells": [
  {
   "cell_type": "markdown",
   "metadata": {},
   "source": [
    "# Day - 10\n",
    "# Date - 4 June 2019\n"
   ]
  },
  {
   "cell_type": "markdown",
   "metadata": {},
   "source": [
    "# Statistics Fundamentals"
   ]
  },
  {
   "cell_type": "markdown",
   "metadata": {},
   "source": [
    "# Task 1:\n",
    "* Create a new column which describes the number of points a player scored per game during the season. The number of total points a player scored the entire season is stored in the PTS column, and the number of games played in the Games Played column. Give the new column a relevant name.\n"
   ]
  },
  {
   "cell_type": "code",
   "execution_count": 2,
   "metadata": {},
   "outputs": [
    {
     "name": "stdout",
     "output_type": "stream",
     "text": [
      "['11.6', '7.2', '8.4', '6.1', '2.1', '1.9', '1.5', '17.0', '13.2', '5.1', '8.1', '14.2', '2.0', '1.9', '2.0', '3.9', '1.6', '3.8', '0.6', '20.1', '7.5', '8.4', '9.5', '2.3', '13.0', '21.0', '13.2', '7.6', '17.0', '15.0', '10.4', '2.1', '3.6', '15.2', '3.8', '2.4', '4.4', '11.6', '12.9', '12.3', '8.5', '2.7', '7.5', '8.2', '18.4', '18.8', '10.6', '4.3', '14.0', '11.3', '3.4', '11.2', '5.3', '5.1', '0.9', '14.7', '2.2', '4.4', '11.7', '8.4', '7.1', '14.5', '5.9', '2.8', '1.2', '2.2', '9.2', '17.2', '4.0', '16.1', '3.3', '6.4', '5.6', '4.6', '10.6', '5.5', '15.2', '1.5', '6.9', '8.0', '5.8', '4.9', '12.0', '6.9', '0.9', '11.0', '7.8', '2.1', '8.0', '6.0', '0.3', '0.4', '5.1', '2.7', '16.9', '11.4', '5.4', '9.1', '6.9', '4.4', '4.0', '3.6', '1.9', '19.2', '2.7', '8.5', '4.8', '3.7', '3.7', '2.8', '10.7', '7.4', '6.4', '4.8', '6.2', '0.5', '3.0', '11.0', '3.4', '4.4', '11.9', '2.9', '8.4', '11.3', '18.2', '14.2', '4.6', '10.1', '11.3', '2.9', '2.2', '19.7', '8.9', '13.3', '1.0', '7.2', '7.2', '7.8', '16.1', '1.3', '10.3', '20.1', '5.0']\n"
     ]
    }
   ],
   "source": [
    "import pandas as pd\n",
    "import numpy as np\n",
    "import pprint       \n",
    "def required(filename):\n",
    "    df =pd.read_csv(filename)\n",
    "    games_played = [df['Games Played'].values]   \n",
    "    gamePlay = games_played[0]\n",
    "        \n",
    "    get_points = [df['PTS'].values]\n",
    "    point = get_points[0]\n",
    "        \n",
    "    point_per_game =[]\n",
    "    for i in range(0,len(point)):\n",
    "        point_per_game.append('{0:.1f}'.format(point[i]/gamePlay[i]))    \n",
    "    print(point_per_game)\n",
    "    df['PTS_perGame'] = point_per_game\n",
    "    df.to_csv(filename,index = False)\n",
    "        \n",
    "        \n",
    "required('WNBA Stats.csv')"
   ]
  },
  {
   "cell_type": "code",
   "execution_count": null,
   "metadata": {},
   "outputs": [],
   "source": []
  },
  {
   "cell_type": "markdown",
   "metadata": {},
   "source": [
    "# Task 2:\n",
    "* Stratify the wnba data set by player position. The Pos column describes a player's position on the field. Assign each stratum to a different variable.\n",
    "* Loop through the strata, and for each stratum:\n",
    "  * Sample 10 observations using simple random sampling (set random_state = 0).\n",
    "  * Find the mean points per game using the sample. Use the new column you've created earlier.\n",
    "  * Find a way to store the mean along with its corresponding position. You can use a dictionary.\n",
    "\n",
    "\n",
    "# Task 3:\n",
    "Find the position that has the greatest number of points per game, and assign its name to a variable named position_most_points."
   ]
  },
  {
   "cell_type": "code",
   "execution_count": 4,
   "metadata": {},
   "outputs": [
    {
     "name": "stdout",
     "output_type": "stream",
     "text": [
      "{'F': 8.7, 'G': 7.080000000000001, 'C': 9.84, 'G/F': 6.82, 'F/C': 9.06}\n",
      "position with most point:  C\n"
     ]
    }
   ],
   "source": [
    "import pandas as pd\n",
    "import numpy as np\n",
    "import pprint\n",
    "class basketball():\n",
    "    def __init__(self,filename):\n",
    "        self.df = pd.read_csv(filename)\n",
    "        \n",
    "    def required(self):  \n",
    "        forward,guard,center,guard_forward,forward_center =[],[],[],[],[]\n",
    "        position = [self.df['Pos'].values]\n",
    "        pos = position[0]\n",
    "        \n",
    "        forward = [self.df.iat[i,32] for i in range(0,len(pos)) if self.df.iat[i,2]=='F']\n",
    "        guard = [self.df.iat[i,32] for i in range(0,len(pos)) if self.df.iat[i,2]=='G']    \n",
    "        center = [self.df.iat[i,32] for i in range(0,len(pos)) if self.df.iat[i,2]=='C']\n",
    "        guard_forward = [self.df.iat[i,32] for i in range(0,len(pos)) if self.df.iat[i,2]=='G/F']\n",
    "        forward_center = [self.df.iat[i,32] for i in range(0,len(pos)) if self.df.iat[i,2]=='F/C']\n",
    "                \n",
    "        sample_f = pd.Series(forward).sample(n=10, random_state=0)\n",
    "        sample_g = pd.Series(guard).sample(n=10, random_state=0)\n",
    "        sample_c = pd.Series(center).sample(n=10, random_state=0)\n",
    "        sample_gf = pd.Series(guard_forward).sample(n=10, random_state=0)\n",
    "        sample_fc = pd.Series(forward_center).sample(n=10, random_state=0)\n",
    "        \n",
    "        f=list(sample_f)\n",
    "        g=list(sample_g)\n",
    "        c=list(sample_c)\n",
    "        gf=list(sample_gf)\n",
    "        fc=list(sample_fc)\n",
    "        \n",
    "        req_mean=[]\n",
    "        \n",
    "        mean_f = sum(f)/len(f)\n",
    "        req_mean.append(mean_f)\n",
    "        mean_g = sum(g)/len(g)\n",
    "        req_mean.append(mean_g)\n",
    "        mean_c = sum(c)/len(c)\n",
    "        req_mean.append(mean_c)\n",
    "        mean_gf = sum(gf)/len(gf)\n",
    "        req_mean.append(mean_gf)\n",
    "        mean_fc = sum(fc)/len(fc)\n",
    "        req_mean.append(mean_fc)\n",
    "        \n",
    "        place =['F','G','C','G/F','F/C']\n",
    "        \n",
    "        dict1={}\n",
    "        j=0\n",
    "        for i in place:\n",
    "            dict1[i] = req_mean[j]\n",
    "            j+=1\n",
    "            \n",
    "            \n",
    "        print(dict1)\n",
    "        position_most_point = max(dict1, key=dict1.get)\n",
    "        \n",
    "        print(\"position with most point: \",position_most_point)\n",
    "series = basketball('WNBA Stats.csv')\n",
    "series.required()"
   ]
  },
  {
   "cell_type": "code",
   "execution_count": null,
   "metadata": {},
   "outputs": [],
   "source": []
  },
  {
   "cell_type": "markdown",
   "metadata": {},
   "source": [
    "# Proportional Stratified Sampling\n"
   ]
  },
  {
   "cell_type": "markdown",
   "metadata": {},
   "source": [
    "# Task4:\n",
    "* Stratify the data set by the number of games played in the following way: the first strata should be composed of players that played 12 games or less; the second of players that played more than 12 games, but up to 22 (included); and the third of players that played more than 22 games (22 not included).\n",
    "\n",
    "\n",
    "\n",
    "* Perform stratified sampling 100 times. For each of the 100 iterations of a forloop:\n",
    "  * Sample each stratum proportionally. Sample at random: one sample observation from the first stratum, two sample observations from the second, and seven sample observations from the third stratum.\n",
    "  * random_state should vary from 0 to 99: 0 for the first iteration, 99 for the last iteration.\n",
    "  * Once you're done with the sampling for the current iteration of the loop, concatenate all the sample observations into one final sample. You can use pd.concat().\n",
    "  * Compute the mean of the final sample, and append it to a list defined outside the loop. The mean should be for the PTS column.\n",
    "\n",
    "# Task 5:\n",
    "* Display the entire sampling process.\n",
    "* Using plt.scatter(), display the sampling means on a scatter plot. Place the means on the y-axis, and the sample numbers on the x-axis (the numbers should range from 1 to 100 - both endpoints included).\n",
    "* Using plt.axhline(), display the population mean for the total points in the form of a horizontal line.\n"
   ]
  },
  {
   "cell_type": "code",
   "execution_count": 33,
   "metadata": {},
   "outputs": [
    {
     "data": {
      "image/png": "[encoded data removed]",
      "text/plain": [
       "<Figure size 432x288 with 1 Axes>"
      ]
     },
     "metadata": {
      "needs_background": "light"
     },
     "output_type": "display_data"
    }
   ],
   "source": [
    "import pandas as pd\n",
    "import numpy as np\n",
    "import matplotlib.pyplot as plt\n",
    "import pprint       \n",
    "def required(filename):\n",
    "    sample, mean = [],[]\n",
    "    df =pd.read_csv(filename)\n",
    "    games_played = [df['Games Played'].values]   \n",
    "    gamePlay = games_played[0]\n",
    "        \n",
    "    less_game = [df.iat[i,29] for i in range(0,len(gamePlay)) if(df.iat[i,11] <=12)]\n",
    "    med_game = [df.iat[i,29] for i in range(0,len(gamePlay)) if(df.iat[i,11] >12 and df.iat[i,11]<=22)]\n",
    "    more_game = [df.iat[i,29] for i in range(0,len(gamePlay)) if(df.iat[i,11] > 22)]\n",
    "    \n",
    "    for i in range(0,100):\n",
    "        sample1 = pd.Series(less_game).sample(n=1, random_state=i)\n",
    "        sample2 = pd.Series(med_game).sample(n=2, random_state=i)\n",
    "        sample3 = pd.Series(more_game).sample(n=7, random_state=i)\n",
    "        sample.append(pd.concat([sample1,sample2,sample3]))\n",
    "    \n",
    "    for i in sample:\n",
    "        mean.append(sum(i)/len(i))\n",
    "    \n",
    "    arealist = np.pi * 10\n",
    "    x = np.arange(1,101)\n",
    "    colorlist = np.random.rand(len(mean))\n",
    "    plt.scatter(x,mean,s=arealist,c='#0000FF',alpha = 1) \n",
    "    plt.axhline(y=sum(mean)/len(mean),linewidth=2, color='r')\n",
    "         \n",
    "        \n",
    "required('WNBA Stats.csv')"
   ]
  },
  {
   "cell_type": "code",
   "execution_count": null,
   "metadata": {},
   "outputs": [],
   "source": []
  },
  {
   "cell_type": "markdown",
   "metadata": {},
   "source": [
    "# Cluster Sampling \n"
   ]
  },
  {
   "cell_type": "markdown",
   "metadata": {},
   "source": [
    "# Task 6:\n",
    "* Pick four team clusters randomly using the technique we've learned (use random_state = 0).\n",
    "* Collect the data from each cluster without sampling the clusters. Create a new DataFrame object that stores the data collected from all clusters.\n",
    "* Use the data collected to estimate the mean for the following player attributes:\n",
    "  * Height;\n",
    "  * Age;\n",
    "  * BMI;\n",
    "  * Total points.\n",
    "* Finally, measure the sampling error of your estimates, and assign the errors to the following variables: sampling_error_height, sampling_error_age, sampling_error_BMI, sampling_error_points.\n"
   ]
  },
  {
   "cell_type": "code",
   "execution_count": 2,
   "metadata": {},
   "outputs": [
    {
     "name": "stdout",
     "output_type": "stream",
     "text": [
      "6     PHO\n",
      "11    IND\n",
      "4     MIN\n",
      "10    ATL\n",
      "dtype: object\n",
      "Mean height:  184.6304347826087\n",
      "Mean age :  28.47826086956522\n",
      "Mean BMI:  22.86025978608696\n",
      "Mean points:  229.58695652173913\n",
      "Sampling error height:  0.06400121617511445\n",
      "Sampling error age:  1.401337792642142\n",
      "Sampling error BMI:  -0.06947741908785332\n",
      "Sampling error points:  27.79674673152934\n"
     ]
    }
   ],
   "source": [
    "import pandas as pd\n",
    "import numpy as np\n",
    "import pprint       \n",
    "def required(filename):\n",
    "    df =pd.read_csv(filename)\n",
    "    \n",
    "    \n",
    "    team_sample = pd.Series(df['Team'].unique()).sample(4, random_state = 0)\n",
    "    print(team_sample)\n",
    "    \n",
    "    req=[]\n",
    "    for i in team_sample:\n",
    "        for j in range(0,len(df)):\n",
    "            if(df.iat[j,1]==i):\n",
    "                req.append(df.loc[j])\n",
    "                \n",
    "    df1 = pd.DataFrame(req)\n",
    "    \n",
    "\n",
    "    mean_height = sum(df1['Height'])/len(df1['Height'])\n",
    "    mean_Age= sum(df1['Age'])/len(df1['Age'])\n",
    "    mean_BMI= sum(df1['BMI'])/len(df1['BMI'])\n",
    "    mean_PTS= sum(df1['PTS'])/len(df1['PTS'])\n",
    "\n",
    "    print(\"Mean height: \",mean_height)\n",
    "    print(\"Mean age : \",mean_Age)\n",
    "    print(\"Mean BMI: \",mean_BMI)\n",
    "    print(\"Mean points: \",mean_PTS)\n",
    "    \n",
    "    df['BMI'].fillna(0, inplace = True)\n",
    "    \n",
    "    height = sum(df['Height'])/len(df['Height'])       \n",
    "    age = sum(df['Age'])/len(df['Age'])\n",
    "    BMI = sum(df['BMI'])/len(df['BMI'])\n",
    "    PTS =sum(df['PTS'])/len(df['PTS'])\n",
    "    \n",
    "    \n",
    "    \n",
    "    sampling_error_height = mean_height - height\n",
    "    sampling_error_age = mean_Age - age\n",
    "    sampling_error_BMI = mean_BMI - BMI\n",
    "    sampling_error_points = mean_PTS - PTS\n",
    "    \n",
    "    print(\"Sampling error height: \",sampling_error_height)\n",
    "    print(\"Sampling error age: \",sampling_error_age)\n",
    "    print(\"Sampling error BMI: \",sampling_error_BMI)\n",
    "    print(\"Sampling error points: \",sampling_error_points)\n",
    "    \n",
    "required('WNBA Stats.csv')"
   ]
  },
  {
   "cell_type": "code",
   "execution_count": null,
   "metadata": {},
   "outputs": [],
   "source": []
  }
 ],
 "metadata": {
  "kernelspec": {
   "display_name": "Python 3",
   "language": "python",
   "name": "python3"
  },
  "language_info": {
   "codemirror_mode": {
    "name": "ipython",
    "version": 3
   },
   "file_extension": ".py",
   "mimetype": "text/x-python",
   "name": "python",
   "nbconvert_exporter": "python",
   "pygments_lexer": "ipython3",
   "version": "3.7.3"
  }
 },
 "nbformat": 4,
 "nbformat_minor": 2
}
