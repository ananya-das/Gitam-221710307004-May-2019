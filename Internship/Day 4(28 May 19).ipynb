{
 "cells": [
  {
   "cell_type": "markdown",
   "metadata": {},
   "source": [
    "# Problem solving and Programming\n",
    "## Day No : 4\n",
    "## Date      : 28-May-2019"
   ]
  },
  {
   "cell_type": "code",
   "execution_count": null,
   "metadata": {},
   "outputs": [],
   "source": []
  },
  {
   "cell_type": "markdown",
   "metadata": {},
   "source": [
    "# Problem 1:\n",
    "#### Problem Statement :\n",
    "\n",
    "Print no. of matches won by each team based on year wise (each year as one column)\n",
    "(NOT COMPLETED)"
   ]
  },
  {
   "cell_type": "code",
   "execution_count": 8,
   "metadata": {},
   "outputs": [
    {
     "name": "stdout",
     "output_type": "stream",
     "text": [
      "                      Team_name 2008 2009 2010 2011 2012 2013 2014 2015 2016  \\\n",
      "0           Chennai Super Kings                                                \n",
      "1               Deccan Chargers                                                \n",
      "2              Delhi Daredevils                                                \n",
      "3                 Gujarat Lions                                                \n",
      "4               Kings XI Punjab                                                \n",
      "5          Kochi Tuskers Kerala                                                \n",
      "6         Kolkata Knight Riders                                                \n",
      "7                Mumbai Indians                                                \n",
      "8                 Pune Warriors                                                \n",
      "9              Rajasthan Royals                                                \n",
      "10      Rising Pune Supergiants                                                \n",
      "11  Royal Challengers Bangalore                                                \n",
      "12          Sunrisers Hyderabad                                                \n",
      "\n",
      "   2017  \n",
      "0        \n",
      "1        \n",
      "2        \n",
      "3        \n",
      "4        \n",
      "5        \n",
      "6        \n",
      "7        \n",
      "8        \n",
      "9        \n",
      "10       \n",
      "11       \n",
      "12       \n"
     ]
    }
   ],
   "source": [
    "import numpy as np\n",
    "import pandas as pd\n",
    "def generateMatchReport(matchdata):\n",
    "    year,team,unique_team,unique_year,freq,wincount=[],[],[],[],[],[]\n",
    "    \n",
    "    df = pd.read_csv(matchdata)\n",
    "        \n",
    "    team = list(df['Team1'].values)\n",
    "\n",
    "    \n",
    "    unique_team = np.unique(team) \n",
    "   \n",
    "    #print(unique_team)\n",
    "    \n",
    "    year = list(df['Season_Year'].values)\n",
    "    \n",
    "    unique_year = np.unique(year)\n",
    "    #print(unique_year)\n",
    "    \n",
    "    wincount = list(df['match_winner'].values)\n",
    "    #print(wincount)\n",
    "    \n",
    "    dict = {'Team_name':unique_team}  \n",
    "    df = pd.DataFrame(dict)\n",
    "    \n",
    "    for i in range(0,len(unique_year)):\n",
    "        df.insert(i+1,unique_year[i],'')\n",
    "        \n",
    "    \n",
    "    print(df)\n",
    "    \n",
    "    \n",
    "    \n",
    "    \n",
    "    \n",
    "generateMatchReport('Match1.csv')\n"
   ]
  },
  {
   "cell_type": "code",
   "execution_count": null,
   "metadata": {},
   "outputs": [],
   "source": []
  },
  {
   "cell_type": "markdown",
   "metadata": {},
   "source": [
    "# Problem 2:\n",
    "#### Problem Statement :\n",
    "\n",
    "Print  ManOfMach count of each player in  Hyderabad stadium\n",
    "\n"
   ]
  },
  {
   "cell_type": "code",
   "execution_count": 7,
   "metadata": {},
   "outputs": [
    {
     "name": "stdout",
     "output_type": "stream",
     "text": [
      "Count of the players as man of the match in hyderabad\n",
      "{'A Mishra': 2,\n",
      " 'AB Dinda': 1,\n",
      " 'AT Rayudu': 1,\n",
      " 'B Kumar': 2,\n",
      " 'CH Morris': 1,\n",
      " 'DA Warner': 7,\n",
      " 'DJ Bravo': 1,\n",
      " 'DJG Sammy': 1,\n",
      " 'DW Steyn': 3,\n",
      " 'G Gambhir': 1,\n",
      " 'GH Vihari': 2,\n",
      " 'I Sharma': 1,\n",
      " 'JD Unadkat': 1,\n",
      " 'KH Pandya': 1,\n",
      " 'KS Williamson': 1,\n",
      " 'MJ McClenaghan': 1,\n",
      " 'MR Marsh': 1,\n",
      " 'Mandeep Singh': 1,\n",
      " 'Mustafizur Rahman': 1,\n",
      " 'PA Patel': 1,\n",
      " 'PC Valthaty': 1,\n",
      " 'R Vinay Kumar': 1,\n",
      " 'Rashid Khan': 1,\n",
      " 'S Dhawan': 1,\n",
      " 'SC Ganguly': 1,\n",
      " 'SE Marsh': 1,\n",
      " 'SK Raina': 2,\n",
      " 'SK Trivedi': 1,\n",
      " 'SL Malinga': 1,\n",
      " 'UT Yadav': 1,\n",
      " 'V Kohli': 1,\n",
      " 'V Sehwag': 2,\n",
      " 'WP Saha': 1,\n",
      " 'YK Pathan': 2,\n",
      " 'Yuvraj Singh': 1}\n"
     ]
    }
   ],
   "source": [
    "import numpy as np\n",
    "import pandas as pd\n",
    "import pprint\n",
    "def generateMatchReport(matchdata):\n",
    "    df = pd.read_csv(matchdata)\n",
    "    dict1,j={},0\n",
    "    player,count=[],[]\n",
    "    \n",
    "    man_of_match = list(df['ManOfMach'].values)\n",
    "    man_of_match_hyd = list(df.iat[i,14] for i in range(0,len(man_of_match)) if df.iat[i,7] == 'Hyderabad' or df.iat[i,7]=='Hyderabad (Deccan)')\n",
    "    \n",
    "    #print(man_of_match_hyd)\n",
    "    \n",
    "    player,freq = np.unique(man_of_match_hyd,return_counts = True)\n",
    "    \n",
    "    for i in player:\n",
    "        dict1[i] = freq[j]\n",
    "        j+=1\n",
    "    \n",
    "    print(\"Count of the players as man of the match in hyderabad\")\n",
    "    pprint.pprint(dict1)\n",
    "    \n",
    "    \n",
    "\n",
    "    \n",
    "generateMatchReport('Match1.csv')\n"
   ]
  },
  {
   "cell_type": "code",
   "execution_count": null,
   "metadata": {},
   "outputs": [],
   "source": []
  },
  {
   "cell_type": "markdown",
   "metadata": {},
   "source": [
    "# Problem 3:\n",
    "#### Problem Statement :\n",
    "\n",
    "Print number of matches won and loss(as two columns). Consider as win when a team wins Toss  and Match . print for each and every team\n"
   ]
  },
  {
   "cell_type": "code",
   "execution_count": 30,
   "metadata": {},
   "outputs": [
    {
     "name": "stdout",
     "output_type": "stream",
     "text": [
      "                      Team_name  won  loss\n",
      "0           Chennai Super Kings   42    37\n",
      "1               Deccan Chargers   19    10\n",
      "2              Delhi Daredevils   33    29\n",
      "3                 Gujarat Lions   10     3\n",
      "4               Kings XI Punjab   28    42\n",
      "5          Kochi Tuskers Kerala    4     2\n",
      "6         Kolkata Knight Riders   44    33\n",
      "7                Mumbai Indians   48    43\n",
      "8                 Pune Warriors    3     9\n",
      "9              Rajasthan Royals   34    29\n",
      "10      Rising Pune Supergiants    7     8\n",
      "11  Royal Challengers Bangalore   35    38\n",
      "12          Sunrisers Hyderabad   17    25\n"
     ]
    }
   ],
   "source": [
    "import numpy as np\n",
    "import pandas as pd\n",
    "def generateMatchReport(matchdata):\n",
    "    df = pd.read_csv(matchdata)\n",
    "    team,unique_team,won,lost=[],[],[],[]\n",
    "    unique_won,unique_lost,freq1,freq2=[],[],[],[]\n",
    "    j=0\n",
    "    dict1={}\n",
    "    \n",
    "    team = list(df['Team1'].values)    \n",
    "    unique_team = np.unique(team)\n",
    "    \n",
    "    won = list(df.iat[i,10] for i in range(0,len(team)) if df.iat[i,9] ==  df.iat[i,10])\n",
    "    unique_won,freq1 = np.unique(won, return_counts = True)\n",
    "    \n",
    "    lost = list(df.iat[i,10] for i in range(0,len(team)) if df.iat[i,9] !=  df.iat[i,10])\n",
    "    unique_lost,freq2 = np.unique(lost,return_counts = True)\n",
    "    \n",
    "    freq_lost=freq2[:13]  #removing frequencies of tied,abondend and nan match since they are not valid\n",
    "            \n",
    "    dict = {'Team_name':unique_team,'won':freq1,'loss':freq_lost}  \n",
    "    df = pd.DataFrame(dict)\n",
    "    \n",
    "    \n",
    "    print(df)\n",
    "    \n",
    "    \n",
    "\n",
    "    \n",
    "generateMatchReport('Match1.csv')\n"
   ]
  }
 ],
 "metadata": {
  "kernelspec": {
   "display_name": "Python 3",
   "language": "python",
   "name": "python3"
  },
  "language_info": {
   "codemirror_mode": {
    "name": "ipython",
    "version": 3
   },
   "file_extension": ".py",
   "mimetype": "text/x-python",
   "name": "python",
   "nbconvert_exporter": "python",
   "pygments_lexer": "ipython3",
   "version": "3.7.3"
  }
 },
 "nbformat": 4,
 "nbformat_minor": 2
}
