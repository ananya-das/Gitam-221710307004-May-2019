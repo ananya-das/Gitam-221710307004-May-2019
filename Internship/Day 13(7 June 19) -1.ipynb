{
 "cells": [
  {
   "cell_type": "markdown",
   "metadata": {},
   "source": [
    "# Day - 13\n",
    "# Date - 7 June 2019"
   ]
  },
  {
   "cell_type": "code",
   "execution_count": null,
   "metadata": {},
   "outputs": [],
   "source": []
  },
  {
   "cell_type": "markdown",
   "metadata": {},
   "source": [
    "# Task 1:\n",
    "* Read dc_airbnb.csv into a Dataframe named dc_listings.\n",
    "* Use the print function to display the first row in dc_listings.\n"
   ]
  },
  {
   "cell_type": "code",
   "execution_count": 44,
   "metadata": {
    "scrolled": true
   },
   "outputs": [
    {
     "name": "stdout",
     "output_type": "stream",
     "text": [
      "  host_response_rate host_acceptance_rate  host_listings_count   latitude  \\\n",
      "0                92%                  91%                   26  38.890046   \n",
      "\n",
      "   longitude        city zipcode state  accommodates        room_type  \\\n",
      "0 -77.002808  Washington   20003    DC             4  Entire home/apt   \n",
      "\n",
      "   bedrooms  bathrooms  beds    price cleaning_fee security_deposit  \\\n",
      "0       1.0        1.0   2.0  $160.00      $115.00          $100.00   \n",
      "\n",
      "   minimum_nights  maximum_nights  number_of_reviews  \n",
      "0               1            1125                  0  \n",
      "3723\n"
     ]
    }
   ],
   "source": [
    "import pandas as pd\n",
    "import numpy as np\n",
    "def airbnb(filename):\n",
    "    dc_listings = pd.read_csv(filename).fillna(0)\n",
    "    print(dc_listings.head(1))\n",
    "    print(len(dc_listings))\n",
    "    \n",
    "airbnb('dc_airbnb.csv')"
   ]
  },
  {
   "cell_type": "code",
   "execution_count": null,
   "metadata": {},
   "outputs": [],
   "source": []
  },
  {
   "cell_type": "markdown",
   "metadata": {},
   "source": [
    "# Task 2:\n",
    "* Calculate the Euclidean distance between our living space, which can accommodate 3 people, and the first living space in the dc_listings Dataframe.\n",
    "* Assign the result to first_distance and display the value using the print function.\n"
   ]
  },
  {
   "cell_type": "code",
   "execution_count": 45,
   "metadata": {},
   "outputs": [
    {
     "name": "stdout",
     "output_type": "stream",
     "text": [
      "1\n"
     ]
    }
   ],
   "source": [
    "import numpy as np\n",
    "dc_listings = pd.read_csv('dc_airbnb.csv')\n",
    "acc = 3\n",
    "flsv = dc_listings.loc[0,'accommodates']\n",
    "first_distance = np.abs(flsv - acc)\n",
    "print(first_distance)"
   ]
  },
  {
   "cell_type": "markdown",
   "metadata": {},
   "source": [
    "# Task 3:\n",
    "* Calculate the distance between each value in the accommodates column from dc_listings and the value 3, which is the number of people our listing accommodates:\n",
    "* Use the apply method to calculate the absolute value between each value in accommodates and 3 and return a new Series containing the distance values.\n",
    "* Assign the distance values to the distance column.\n",
    "* Use the Series method value_counts and the print function to display the unique value counts for the distance column.\n"
   ]
  },
  {
   "cell_type": "code",
   "execution_count": 3,
   "metadata": {},
   "outputs": [
    {
     "data": {
      "text/plain": [
       "0      461\n",
       "1     2294\n",
       "2      503\n",
       "3      279\n",
       "4       35\n",
       "5       73\n",
       "6       17\n",
       "7       22\n",
       "8        7\n",
       "9       12\n",
       "10       2\n",
       "11       4\n",
       "12       6\n",
       "13       8\n",
       "Name: distance, dtype: int64"
      ]
     },
     "execution_count": 3,
     "metadata": {},
     "output_type": "execute_result"
    }
   ],
   "source": [
    "dc_listings['distance'] = np.abs(dc_listings.accommodates - 3)\n",
    "dc_listings.distance.value_counts().sort_index()   #returns object containing counts of unique values\n"
   ]
  },
  {
   "cell_type": "code",
   "execution_count": null,
   "metadata": {},
   "outputs": [],
   "source": []
  },
  {
   "cell_type": "markdown",
   "metadata": {},
   "source": [
    "# Task 4:\n",
    "* Randomize the order of the rows in dc_listings:\n",
    "  * Use the np.random.permutation() function to return a NumPy array of shuffled index values.\n",
    "  * Use the Dataframe method loc[] to return a new Dataframe containing the shuffled order.\n",
    "  * Assign the new Dataframe back to dc_listings.\n",
    "* After randomization, sort dc_listings by the distance column.\n",
    "* Display the first 10 values in the price column using the print function.\n"
   ]
  },
  {
   "cell_type": "code",
   "execution_count": 11,
   "metadata": {},
   "outputs": [
    {
     "data": {
      "text/plain": [
       "2645     $75.00\n",
       "2825    $120.00\n",
       "2145     $90.00\n",
       "2541     $50.00\n",
       "3349    $105.00\n",
       "2228    $117.00\n",
       "1122    $176.00\n",
       "2311    $117.00\n",
       "625     $150.00\n",
       "2312    $100.00\n",
       "Name: price, dtype: object"
      ]
     },
     "execution_count": 11,
     "metadata": {},
     "output_type": "execute_result"
    }
   ],
   "source": [
    "dc_listings = dc_listings.sample(frac=1,random_state=0)\n",
    "dc_listings = dc_listings.sort_values('distance')\n",
    "dc_listings.price.head(10)"
   ]
  },
  {
   "cell_type": "code",
   "execution_count": 6,
   "metadata": {},
   "outputs": [
    {
     "name": "stdout",
     "output_type": "stream",
     "text": [
      "[ 555 3283  478 ... 2606 2017  332]\n"
     ]
    }
   ],
   "source": [
    "for i in range(0,len(dc_listings)):\n",
    "    dc_listings1 = np.random.permutation(i)\n",
    "    \n",
    "print(dc_listings1)"
   ]
  },
  {
   "cell_type": "code",
   "execution_count": null,
   "metadata": {},
   "outputs": [],
   "source": []
  },
  {
   "cell_type": "markdown",
   "metadata": {},
   "source": [
    "# Task 5:\n",
    "* Remove the commas (,) and dollar sign characters ($)from the price column:\n",
    "  * Use the str accessor so we can apply string methods to each value in the column followed by the string method replace to replace all comma characters with the empty character: stripped_commas = dc_listings['price'].str.replace(',', '')\n",
    "  * Repeat to remove the dollar sign characters as well.\n",
    "* Convert the new Series object containing the cleaned values to the float datatype and assign back to the price column in  dc_listings.\n",
    "* Calculate the mean of the first 5 values in the price column and assign to mean_price.\n",
    "* Use the print function or the variable inspector below to display mean_price.\n"
   ]
  },
  {
   "cell_type": "code",
   "execution_count": 9,
   "metadata": {},
   "outputs": [
    {
     "data": {
      "text/plain": [
       "141.0"
      ]
     },
     "execution_count": 9,
     "metadata": {},
     "output_type": "execute_result"
    }
   ],
   "source": [
    "dc_listings['price'] = dc_listings.price.str.replace(\"\\$|,\",'').astype(float)\n",
    "mean_price = dc_listings.price.iloc[:5].mean()\n",
    "mean_price"
   ]
  },
  {
   "cell_type": "markdown",
   "metadata": {},
   "source": [
    "# Task 6:\n",
    "* Write a function named predict_price that can use the k-nearest neighbors machine learning technique to calculate the suggested price for any value for accommodates. This function should:\n",
    "  * Take in a single parameter, new_listing, that describes the number of bedrooms.\n",
    "  * We've added code that assigns dc_listings to a new Dataframe named temp_df. We used the pandas.DataFrame.copy() method so the underlying dataframe is assigned to temp_df, instead of just a reference to dc_listings.\n",
    "  * Calculate the distance between each value in the accommodates column and the new_listing value that was passed in. Assign the resulting Series object to the distance column in temp_df.\n",
    "  * Sort temp_df by the distance column and select the first 5 values in the pricecolumn. Don't randomize the ordering of temp_df.\n",
    "  * Calculate the mean of these 5 values and use that as the return value for the entire predict_price function.\n",
    "* Use the predict_price function to suggest a price for a living space that:\n",
    "  * accommodates 1 person, assign the suggested price to acc_one.\n",
    "  * accommodates 2 people, assign the suggested price to acc_two.\n",
    "  * accommodates 4 people, assign the suggested price to acc_four.\n"
   ]
  },
  {
   "cell_type": "code",
   "execution_count": 50,
   "metadata": {},
   "outputs": [],
   "source": [
    "def predict_price(new_listing):\n",
    "    dc_listings = pd.read_csv('dc_airbnb.csv').fillna(0)\n",
    "    temp_df = pd.DataFrame.copy(dc_listings)\n",
    "    \n",
    "    accomodates = [dc_listings.iat[i,10] for i in range(0,len(dc_listings))]\n",
    "    for i in range(0,len(temp_df)):\n",
    "        temp_df['distance'] = np.abs(accomodates[i] - new_listing)\n",
    "    temp_df = temp_df.sort_values('distance')\n",
    "    mean_5 = temp_df.price.iloc[:5]\n",
    "    \n",
    "    mean_5 = mean_5.str.replace(\"\\$|,\",'').astype(float)\n",
    "    predicted_price = mean_5.mean()\n",
    "    return(predicted_price)\n",
    "    \n",
    "    \n",
    "\n"
   ]
  },
  {
   "cell_type": "code",
   "execution_count": 51,
   "metadata": {},
   "outputs": [
    {
     "data": {
      "text/plain": [
       "149.4"
      ]
     },
     "execution_count": 51,
     "metadata": {},
     "output_type": "execute_result"
    }
   ],
   "source": [
    "acc_one=predict_price(1)\n",
    "acc_one"
   ]
  },
  {
   "cell_type": "code",
   "execution_count": 52,
   "metadata": {},
   "outputs": [
    {
     "data": {
      "text/plain": [
       "149.4"
      ]
     },
     "execution_count": 52,
     "metadata": {},
     "output_type": "execute_result"
    }
   ],
   "source": [
    "acc_two = predict_price(2)\n",
    "acc_two"
   ]
  },
  {
   "cell_type": "code",
   "execution_count": 53,
   "metadata": {},
   "outputs": [
    {
     "data": {
      "text/plain": [
       "149.4"
      ]
     },
     "execution_count": 53,
     "metadata": {},
     "output_type": "execute_result"
    }
   ],
   "source": [
    "acc_four = predict_price(4)\n",
    "acc_four"
   ]
  },
  {
   "cell_type": "code",
   "execution_count": null,
   "metadata": {},
   "outputs": [],
   "source": []
  },
  {
   "cell_type": "code",
   "execution_count": null,
   "metadata": {},
   "outputs": [],
   "source": []
  }
 ],
 "metadata": {
  "kernelspec": {
   "display_name": "Python 3",
   "language": "python",
   "name": "python3"
  },
  "language_info": {
   "codemirror_mode": {
    "name": "ipython",
    "version": 3
   },
   "file_extension": ".py",
   "mimetype": "text/x-python",
   "name": "python",
   "nbconvert_exporter": "python",
   "pygments_lexer": "ipython3",
   "version": "3.7.3"
  }
 },
 "nbformat": 4,
 "nbformat_minor": 2
}
