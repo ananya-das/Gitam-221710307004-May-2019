{
 "cells": [
  {
   "cell_type": "markdown",
   "metadata": {},
   "source": [
    "# Day - 11\n",
    "# Date - 5 June 2019"
   ]
  },
  {
   "cell_type": "markdown",
   "metadata": {},
   "source": [
    "# Statistics Fundementals\n",
    "## Variables"
   ]
  },
  {
   "cell_type": "markdown",
   "metadata": {},
   "source": [
    "# Task 1:\n",
    "1. Consider the following sentences, and evaluate their truth value. If the sentence is true, then assign True to the corresponding variable (programming variable) in the code editor, otherwise assign False. Make sure you assign boolean values as answers, not strings.\n",
    "   * Using the Height_labels variable only, we can tell whether player Kiah Stokes is taller than Riquna Williams. Assign your answer to a variable named question1.\n",
    "   * We can measure the height difference between Kiah Stokes and Riquna Williams using the Height_labels variable. Assign your answer to question2.\n",
    "   * The Height_labels and the College variables are both measured on an ordinal scale. Assign your answer to question3.\n",
    "   * The Games Played variable is not measured on an ordinal scale. Assign your answer to question4.\n",
    "   * The Experience variable is measured on an ordinal scale. Assign your answer to question5.\n",
    "   * The Height_labels variable is qualitative because it is measured using words. Assign your answer to question6.\n"
   ]
  },
  {
   "cell_type": "code",
   "execution_count": 17,
   "metadata": {},
   "outputs": [
    {
     "name": "stdout",
     "output_type": "stream",
     "text": [
      "True\n",
      "21\n",
      "False\n",
      "True\n",
      "True\n",
      "False\n"
     ]
    }
   ],
   "source": [
    "import pandas as pd\n",
    "import numpy as np\n",
    "import pprint       \n",
    "def required(filename):\n",
    "    \n",
    "    df =pd.read_csv(filename)\n",
    "    #player1,player2 = [],[]\n",
    "    names = [df['Name'].values]\n",
    "    name = names[0]\n",
    "    for i in range(0,len(name)):\n",
    "        if( name[i]=='Kiah Stokes'):\n",
    "            player1=df.iat[i,3]\n",
    "        elif( name[i]=='Riquna Williams'):\n",
    "            player2 = df.iat[i,3]\n",
    "            \n",
    "    if(player1 > player2):\n",
    "        question1 = True\n",
    "        question2 = player1 - player2\n",
    "    elif(player1 <= player2):\n",
    "        question1 = False\n",
    "        question2 = player1 - player2\n",
    "    \n",
    "    question3 = False\n",
    "    question4 = True\n",
    "    question5 = True\n",
    "    question6 = False\n",
    "    \n",
    "    print(question1)\n",
    "    print(question2)\n",
    "    print(question3)\n",
    "    print(question4)\n",
    "    print(question5)\n",
    "    print(question6)\n",
    "        \n",
    "required('WNBA Stats.csv')"
   ]
  },
  {
   "cell_type": "code",
   "execution_count": null,
   "metadata": {},
   "outputs": [],
   "source": []
  },
  {
   "cell_type": "markdown",
   "metadata": {},
   "source": [
    "# Task 2:\n",
    "Examine the various variables of the data set, and find the ones that are measured on an interval or ratio scale.\n",
    "* For the variables measured on a interval scale, add their names as a stringto a list named interval. Sort the list alphabetically.\n",
    "* For the variables measured on a ratio scale, add their names as a string to a list named ratio. Sort the list alphabetically.\n",
    "* We've also added the Weight_deviation variable to the dataset, so make sure you include that one too in one of the lists."
   ]
  },
  {
   "cell_type": "code",
   "execution_count": 37,
   "metadata": {},
   "outputs": [
    {
     "name": "stdout",
     "output_type": "stream",
     "text": [
      "['AST', 'DREB', 'OREB ', 'PTS', 'Weight_deviation']\n",
      "['Age', 'BMI', 'Birthdate', 'Experience', 'FGM', 'Games Played', 'Height', 'Weight']\n"
     ]
    }
   ],
   "source": [
    "\n",
    "interval = ['OREB ','DREB','AST','Weight_deviation','PTS']\n",
    "print(sorted(interval))\n",
    "ratio = ['Height','Weight','BMI','Birthdate','Age','Experience','Games Played','FGM']\n",
    "print(sorted(ratio))"
   ]
  },
  {
   "cell_type": "code",
   "execution_count": null,
   "metadata": {},
   "outputs": [],
   "source": []
  },
  {
   "cell_type": "markdown",
   "metadata": {},
   "source": [
    "# Task 3:\n",
    "For every variable, indicate whether is continuous or discrete.\n",
    "* In the code editor, we've already extracted for you the names of the variables that are measured on ratio and interval scales. Every variable name is registered as a dictionary key.\n",
    "* If a variable is discrete, then assign the string 'discrete' to its corresponding dictionary key.\n",
    "* If a variable is continuous, then assign the string 'continuous' to its corresponding dictionary key.\n"
   ]
  },
  {
   "cell_type": "code",
   "execution_count": 1,
   "metadata": {},
   "outputs": [
    {
     "data": {
      "text/plain": [
       "{'Name': 'discrete',\n",
       " 'Team': 'discrete',\n",
       " 'Pos': 'discrete',\n",
       " 'Height': 'continuous',\n",
       " 'Weight': 'continuous',\n",
       " 'BMI': 'continuous',\n",
       " 'Birth_Place': 'discrete',\n",
       " 'Birthdate': 'discrete',\n",
       " 'Age': 'continuous',\n",
       " 'College': 'discrete',\n",
       " 'Experience': 'discrete',\n",
       " 'Games Played': 'discrete',\n",
       " 'MIN': 'discrete',\n",
       " 'FGM': 'discrete',\n",
       " 'FGA': 'discrete',\n",
       " 'FG%': 'continuous',\n",
       " '15:00': 'discrete',\n",
       " '3PA': 'discrete',\n",
       " '3P%': 'continuous',\n",
       " 'FTM': 'discrete',\n",
       " 'FTA': 'discrete',\n",
       " 'FT%': 'continuous',\n",
       " 'OREB': 'discrete',\n",
       " 'DREB': 'discrete',\n",
       " 'REB': 'discrete',\n",
       " 'AST': 'discrete',\n",
       " 'STL': 'discrete',\n",
       " 'BLK': 'discrete',\n",
       " 'TO': 'discrete',\n",
       " 'PTS': 'discrete',\n",
       " 'DD2': 'discrete',\n",
       " 'TD3': 'discrete',\n",
       " 'PTS per Game': 'discrete'}"
      ]
     },
     "execution_count": 1,
     "metadata": {},
     "output_type": "execute_result"
    }
   ],
   "source": [
    "category = {'Name' : 'discrete', 'Team' : 'discrete', 'Pos' : 'discrete', 'Height' : 'continuous', \n",
    "            'Weight' : 'continuous', 'BMI' : 'continuous', 'Birth_Place' : 'discrete','Birthdate' : 'discrete', \n",
    "            'Age' : 'continuous', 'College' : 'discrete', 'Experience' : 'discrete', 'Games Played' : 'discrete',\n",
    "            'MIN' : 'discrete','FGM' : 'discrete', 'FGA' : 'discrete', 'FG%' : 'continuous', \n",
    "            '15:00' : 'discrete', '3PA' : 'discrete', '3P%' : 'continuous', 'FTM' : 'discrete', \n",
    "            'FTA' : 'discrete', 'FT%' : 'continuous', 'OREB' : 'discrete','DREB' : 'discrete', \n",
    "            'REB' : 'discrete', 'AST' : 'discrete', 'STL' : 'discrete', 'BLK' : 'discrete', \n",
    "            'TO' : 'discrete', 'PTS' : 'discrete', 'DD2' : 'discrete', 'TD3' : 'discrete',\n",
    "            'PTS per Game' : 'discrete'}\n",
    "category"
   ]
  },
  {
   "cell_type": "code",
   "execution_count": null,
   "metadata": {},
   "outputs": [],
   "source": []
  },
  {
   "cell_type": "markdown",
   "metadata": {},
   "source": [
    "# Task 4:\n",
    "Find the real limits for five values of the BMI (body mass index) variable.\n",
    "* We've already extracted the first five BMI values in the data set and rounded each off to a precision of three decimal places. We stored the values as dictionary keys in a dictionary named bmi.\n",
    "* For every BMI value write its real limits in a list and make the list a dictionary value that should correspond to the right dictionary key. The lower real limits should come first in each list. For example:\n",
    "  * bmi = {20: [19.5, 20.5],\n",
    "  * 21: [20.5, 21.5],\n",
    "  * 23: [22.5, 23.5],\n",
    "  * 24: [23.5, 24.5],\n",
    "  * 22: [21.5, 22.5]}\n"
   ]
  },
  {
   "cell_type": "code",
   "execution_count": 39,
   "metadata": {},
   "outputs": [
    {
     "name": "stdout",
     "output_type": "stream",
     "text": [
      "{0: [0.0, 0.0],\n",
      " 18: [18.39067451, 18.6122449],\n",
      " 19: [18.39067451, 19.75308642],\n",
      " 20: [19.26530612, 20.937075600000004],\n",
      " 21: [20.19946976, 21.93653709],\n",
      " 22: [21.10687755, 22.99262444],\n",
      " 23: [22.05219018, 23.89325888],\n",
      " 24: [23.0256846, 24.98958767],\n",
      " 25: [24.07407407, 25.95155709],\n",
      " 26: [25.05930703, 26.82742078],\n",
      " 27: [26.00438276, 27.92021262],\n",
      " 28: [27.17311907, 28.50799046],\n",
      " 29: [28.50799046, 29.41482716],\n",
      " 30: [29.41482716, 30.33638487],\n",
      " 31: [30.33638487, 31.555880199999997]}\n"
     ]
    }
   ],
   "source": [
    "import pandas as pd\n",
    "import numpy as np  \n",
    "import math\n",
    "import pprint\n",
    "#from sklearn.preprocessing import scale    \n",
    "def required(filename):\n",
    "    \n",
    "    df =pd.read_csv(filename)\n",
    "    df = df.fillna(0)\n",
    "    bmi,dict1 = [],{}\n",
    "    bodyMI,value  = [],[]\n",
    "    #bmi = [df['BMI'].values]\n",
    "    #req_bmi = bmi[0]\n",
    "    for i in range(0,len(df)):\n",
    "        bmi.append(df.iat[i,5])\n",
    "        \n",
    "    bmi=[int(i) for i in bmi]\n",
    "    \n",
    "    bodyMI = np.unique(bmi)\n",
    "    #print(bodyMI)\n",
    "    \n",
    "    for i in range(0,len(bodyMI)):\n",
    "        for j in range(0,len(df)):\n",
    "            if(int(df.iat[j,5])==bodyMI[i]):\n",
    "                value.append(df.iat[j,5])\n",
    "            if(math.ceil(df.iat[j,5])==bodyMI[i]):\n",
    "                value.append(df.iat[j,5])\n",
    "        \n",
    "        value = [min(value),max(value)]\n",
    "        dict1[bodyMI[i]]=value\n",
    "        value = []\n",
    "        \n",
    "    pprint.pprint(dict1)\n",
    "    \n",
    "required('WNBA Stats.csv')"
   ]
  },
  {
   "cell_type": "code",
   "execution_count": null,
   "metadata": {},
   "outputs": [],
   "source": []
  }
 ],
 "metadata": {
  "kernelspec": {
   "display_name": "Python 3",
   "language": "python",
   "name": "python3"
  },
  "language_info": {
   "codemirror_mode": {
    "name": "ipython",
    "version": 3
   },
   "file_extension": ".py",
   "mimetype": "text/x-python",
   "name": "python",
   "nbconvert_exporter": "python",
   "pygments_lexer": "ipython3",
   "version": "3.7.3"
  }
 },
 "nbformat": 4,
 "nbformat_minor": 2
}
