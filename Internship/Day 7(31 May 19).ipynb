{
 "cells": [
  {
   "cell_type": "markdown",
   "metadata": {},
   "source": [
    "# Day - 7\n",
    "# Date - 31 May 2019\n",
    "# Outcomes - \n",
    ">* To analyse cricket data sets using Object Oriented Approach"
   ]
  },
  {
   "cell_type": "code",
   "execution_count": null,
   "metadata": {},
   "outputs": [],
   "source": []
  },
  {
   "cell_type": "markdown",
   "metadata": {},
   "source": [
    "# Task 1 : How many runs of  Dhoni On 4/23/2008  Chennai Super Kings vs Mumbai Indians Match"
   ]
  },
  {
   "cell_type": "code",
   "execution_count": 4,
   "metadata": {},
   "outputs": [
    {
     "name": "stdout",
     "output_type": "stream",
     "text": [
      "Runs made by dhoni:  32\n"
     ]
    }
   ],
   "source": [
    "import pandas as pd\n",
    "import matplotlib.pyplot as plt\n",
    "import numpy as np\n",
    "\n",
    "class runs():\n",
    "    def __init__(self, f1):\n",
    "        self.df = pd.read_csv(f1)\n",
    "        self.match_id =[]\n",
    "        self.req_match =[]\n",
    "        self.csk=[]\n",
    "        \n",
    "    def dhoni_runs(self):\n",
    "        self.match_id.append(self.df['MatcH_id'].values)\n",
    "                \n",
    "        for i in range(0,len(self.match_id[0])):\n",
    "            if(self.df.iat[i,0] == 335994 and self.df.iat[i,34]==12862):\n",
    "                self.req_match.append(self.df.iat[i,8])\n",
    "        \n",
    "        for i in range(0,len(self.df)):\n",
    "            if(self.df.iat[i,0] == 335994 and self.df.iat[i,34]==12862):\n",
    "                self.req_match.append(self.df.iat[i,9])\n",
    "        \n",
    "        print(\"Runs made by dhoni: \",sum(self.req_match))\n",
    "                \n",
    "                \n",
    "        \n",
    "final = runs('Ball_By_Ball.csv')\n",
    "final.dhoni_runs()"
   ]
  },
  {
   "cell_type": "markdown",
   "metadata": {},
   "source": [
    "# Task 2 : From 4/23/2008  Chennai Super Kings vs Mumbai Indians Match: \n",
    "    Plot a bar graph for all the players in the 'Mumbai Indians' team"
   ]
  },
  {
   "cell_type": "code",
   "execution_count": 9,
   "metadata": {},
   "outputs": [
    {
     "name": "stdout",
     "output_type": "stream",
     "text": [
      "[12848, 12849, 12850, 12851, 12852, 12853, 12854, 12855, 12856, 12857, 12858]\n",
      "[2, 20, 43, 45, 17, 28, 24, 9, 1, 0, 0]\n"
     ]
    },
    {
     "data": {
      "image/png": "[encoded data removed]",
      "text/plain": [
       "<Figure size 432x288 with 1 Axes>"
      ]
     },
     "metadata": {
      "needs_background": "light"
     },
     "output_type": "display_data"
    }
   ],
   "source": [
    "import pandas as pd\n",
    "import numpy as np\n",
    "import matplotlib.pyplot as plt\n",
    "\n",
    "class MumbaiIndians():\n",
    "    def __init__(self, ballData,f2):\n",
    "        # reading the file\n",
    "        self.df = pd.read_csv(ballData)\n",
    "        self.df2 = pd.read_csv(f2)\n",
    "        self.no_runs=[]\n",
    "        \n",
    "    def generateBarGraph(self):\n",
    "        players = [self.df.iat[i,4] for i in range(0, len(self.df)) if self.df.iat[i,2] == 335994 if self.df.iat[i,10] == 'Mumbai Indians']\n",
    "        \n",
    "        # collecting the data for mumbai indians team\n",
    "        \n",
    "        player_id= [self.df.iat[i,0] for i in range(0,len(self.df)) if self.df.iat[i,2]== 335994 if self.df.iat[i,10] == 'Mumbai Indians']\n",
    "        print(player_id)\n",
    "        \n",
    "        for i in player_id:\n",
    "            runs = 0\n",
    "            for j in range(0, len(self.df2)):\n",
    "                if self.df2.iat[j,0] == 335994 and self.df2.iat[j,34] == i:\n",
    "                    runs = runs + self.df2.iat[j,8]\n",
    "            self.no_runs.append(runs)\n",
    "        \n",
    " \n",
    "        print(self.no_runs)\n",
    "        \n",
    "        # generating bar graph with the collected data\n",
    "        width = 1/2\n",
    "        plt.title(\"Mumbai Indians' Team\")\n",
    "        plt.bar(players,self.no_runs, width, color = 'pink')\n",
    "        plt.xticks(players,fontsize = 9, rotation = 30)\n",
    "        return\n",
    "\n",
    "runs = MumbaiIndians('Player_match.csv','Ball_By_Ball.csv')\n",
    "runs.generateBarGraph()"
   ]
  },
  {
   "cell_type": "code",
   "execution_count": null,
   "metadata": {},
   "outputs": [],
   "source": []
  },
  {
   "cell_type": "code",
   "execution_count": null,
   "metadata": {},
   "outputs": [],
   "source": []
  }
 ],
 "metadata": {
  "kernelspec": {
   "display_name": "Python 3",
   "language": "python",
   "name": "python3"
  },
  "language_info": {
   "codemirror_mode": {
    "name": "ipython",
    "version": 3
   },
   "file_extension": ".py",
   "mimetype": "text/x-python",
   "name": "python",
   "nbconvert_exporter": "python",
   "pygments_lexer": "ipython3",
   "version": "3.7.3"
  }
 },
 "nbformat": 4,
 "nbformat_minor": 2
}
