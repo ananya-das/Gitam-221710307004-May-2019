{
 "cells": [
  {
   "cell_type": "markdown",
   "metadata": {},
   "source": [
    "# Problem solving and Programming\n",
    "## Day No : 3\n",
    "## Date      : 27-May-2019"
   ]
  },
  {
   "cell_type": "markdown",
   "metadata": {},
   "source": [
    "# Problem 1:\n",
    "#### Problem Statement :\n",
    "  Construct a Dictionary with keys as Genre names and values as frequency percentage  for each genre.\n",
    "\n",
    "Genre |App Count %\n",
    "--- | --- \n",
    "Games |...\n",
    "Productivity |...\n",
    "Social Networking |...\n",
    "Health Care |...\n",
    "etc| ...\n",
    "\n",
    "\n",
    "\n",
    "\n",
    "\n"
   ]
  },
  {
   "cell_type": "code",
   "execution_count": 45,
   "metadata": {},
   "outputs": [
    {
     "name": "stdout",
     "output_type": "stream",
     "text": [
      "{'Book': 1.5562039738780047,\n",
      " 'Business': 0.7919966652771988,\n",
      " 'Catalogs': 0.1389467833819647,\n",
      " 'Education': 6.294289287203002,\n",
      " 'Entertainment': 7.433652910935113,\n",
      " 'Finance': 1.445046547172433,\n",
      " 'Food & Drink': 0.8753647353063776,\n",
      " 'Games': 53.66124774211477,\n",
      " 'Health & Fitness': 2.501042100875365,\n",
      " 'Lifestyle': 2.0008336807002918,\n",
      " 'Medical': 0.31957760177851885,\n",
      " 'Music': 1.9174656106711132,\n",
      " 'Navigation': 0.6391552035570377,\n",
      " 'News': 1.0421008753647354,\n",
      " 'Photo & Video': 4.849242740030569,\n",
      " 'Productivity': 2.473252744198972,\n",
      " 'Reference': 0.8892594136445742,\n",
      " 'Shopping': 1.6951507572599693,\n",
      " 'Social Networking': 2.3204112824788106,\n",
      " 'Sports': 1.5839933305543976,\n",
      " 'Travel': 1.1254689453939142,\n",
      " 'Utilities': 3.4458802278727245,\n",
      " 'Weather': 1.0004168403501459}\n"
     ]
    },
    {
     "data": {
      "text/plain": [
       "0.05375499999991007"
      ]
     },
     "execution_count": 45,
     "metadata": {},
     "output_type": "execute_result"
    }
   ],
   "source": [
    "import timeit\n",
    "import numpy as np\n",
    "import pandas as pd\n",
    "import pprint\n",
    "\n",
    "def generateAppsReport(AppData):\n",
    "    start = timeit.default_timer()\n",
    "    genre, freq,category,percent,final = [], [],[],[],[]\n",
    "    dict1={}\n",
    "    j=0\n",
    "    df = pd.read_csv(AppData)\n",
    "    for i in df.values:\n",
    "         genre.append(i[12])\n",
    "   \n",
    "    category, freq = np.unique(genre,return_counts = True) \n",
    "    \n",
    "    for i in range(0,len(freq)):        \n",
    "        percent.append(freq[i])\n",
    "        \n",
    "        \n",
    "    for i in range(0,len(percent)):\n",
    "        final.append((percent[i]/len(genre))*100)\n",
    "\n",
    "    for i in category:\n",
    "        dict1[i]=final[j]\n",
    "        j+=1\n",
    "    \n",
    "    #print(dict1, end='\\n')\n",
    "    pprint.pprint(dict1)\n",
    "    \n",
    "    return timeit.default_timer() - start\n",
    "\n",
    "generateAppsReport('AppleStore.csv')\n"
   ]
  },
  {
   "cell_type": "code",
   "execution_count": null,
   "metadata": {},
   "outputs": [],
   "source": []
  }
 ],
 "metadata": {
  "kernelspec": {
   "display_name": "Python 3",
   "language": "python",
   "name": "python3"
  },
  "language_info": {
   "codemirror_mode": {
    "name": "ipython",
    "version": 3
   },
   "file_extension": ".py",
   "mimetype": "text/x-python",
   "name": "python",
   "nbconvert_exporter": "python",
   "pygments_lexer": "ipython3",
   "version": "3.7.3"
  }
 },
 "nbformat": 4,
 "nbformat_minor": 2
}
