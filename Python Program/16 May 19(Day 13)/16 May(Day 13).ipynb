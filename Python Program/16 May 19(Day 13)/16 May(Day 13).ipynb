{
 "cells": [
  {
   "cell_type": "markdown",
   "metadata": {},
   "source": [
    "# Problem Solving and Programming"
   ]
  },
  {
   "cell_type": "markdown",
   "metadata": {},
   "source": [
    "## Day No.-  13"
   ]
  },
  {
   "cell_type": "markdown",
   "metadata": {},
   "source": [
    "## Date: 16 May 19"
   ]
  },
  {
   "cell_type": "markdown",
   "metadata": {},
   "source": [
    "## Day Outcomes:\n",
    "* Functional Programming\n",
    "* External Libraries\n",
    "* File Handling/ Data Processing "
   ]
  },
  {
   "cell_type": "markdown",
   "metadata": {},
   "source": [
    "## Problem1:\n",
    "  Define a function to read data from a text file.\n",
    "### constraint:\n",
    "\n",
    "### Test Case:\n",
    "* "
   ]
  },
  {
   "cell_type": "code",
   "execution_count": 4,
   "metadata": {},
   "outputs": [
    {
     "data": {
      "text/plain": [
       "'Data in line 1\\nData in line 2\\nData in line 3'"
      ]
     },
     "execution_count": 4,
     "metadata": {},
     "output_type": "execute_result"
    }
   ],
   "source": [
    "def readFileData(filename):\n",
    "    f = open(filename, 'r')\n",
    "    filedata=f.read()\n",
    "    #filedata += f.readline()\n",
    "    \n",
    "    \n",
    "    f.close()\n",
    "    return filedata\n",
    "\n",
    "readFileData('DataFiles/data.txt')"
   ]
  },
  {
   "cell_type": "code",
   "execution_count": 2,
   "metadata": {},
   "outputs": [],
   "source": [
    "def readFileData(filename):\n",
    "    with open(filename, 'r') as f:\n",
    "        #for line in f:\n",
    "            #print(line, end='')\n",
    "        \n",
    "        print(f.read()) \n",
    "    \n",
    "    \n",
    "    return \n",
    "\n",
    "def writeIntoFile(filename, data):\n",
    "    with open(filename, 'w') as f:\n",
    "        f.write(data)\n",
    "    return \n",
    "\n",
    "#readFileData('DataFiles/data.txt')\n",
    "writeIntoFile('DataFiles/filewrite.txt','data written into fileWrite')"
   ]
  },
  {
   "cell_type": "code",
   "execution_count": 19,
   "metadata": {},
   "outputs": [],
   "source": [
    "def writeIntoFile(filename, data, mode):\n",
    "    with open(filename, mode) as f:\n",
    "        f.write(data)\n",
    "    return \n",
    "\n",
    "writeIntoFile('DataFiles/filewrite.txt','second line \\n','a')"
   ]
  },
  {
   "cell_type": "code",
   "execution_count": null,
   "metadata": {},
   "outputs": [],
   "source": []
  },
  {
   "cell_type": "markdown",
   "metadata": {},
   "source": [
    "# Problem2:\n",
    "  Function to generate a marks Data for 1300 students such that each mark is entered in a new line. Marks range from 0 to 100      (inclusive) as random numbers.\n",
    "### constraint:\n",
    "\n",
    "### Test Case:\n",
    "* "
   ]
  },
  {
   "cell_type": "code",
   "execution_count": 44,
   "metadata": {},
   "outputs": [],
   "source": [
    "import random\n",
    "def generateMarksData(n, filename):\n",
    "    with open(filename, 'w') as marksfile:\n",
    "        for i in range(0,n):\n",
    "            marks = random.randint(0,100)\n",
    "            marksfile.write(str(marks)+'\\n')\n",
    "            \n",
    "    return\n",
    "\n",
    "generateMarksData(1300, 'DataFiles/markdata.txt')\n"
   ]
  },
  {
   "cell_type": "code",
   "execution_count": null,
   "metadata": {},
   "outputs": [],
   "source": []
  },
  {
   "cell_type": "markdown",
   "metadata": {},
   "source": [
    "# Problem3:\n",
    "  Generate a report on the marks data with the following indicators.\n",
    "  \n",
    "* Highest Mark:\n",
    "* Lowest Mark:\n",
    "* Average Mark:\n",
    "* Number of student with distinction(>80):\n",
    "* Number of student with first class(>60):\n",
    "* Number of student with second class(>50):\n",
    "* Number of student with third class(>40):\n",
    "* number of student failed(<40):\n",
    "### constraint:\n",
    "\n",
    "### Test Case:\n",
    "* "
   ]
  },
  {
   "cell_type": "code",
   "execution_count": 20,
   "metadata": {},
   "outputs": [
    {
     "name": "stdout",
     "output_type": "stream",
     "text": [
      "100\n",
      "0\n",
      "49.997692307692304\n",
      "students with distinction 265\n",
      "students with first clast  250\n",
      "students with second clast  133\n",
      "students with second clast  129\n",
      "students failed   523\n"
     ]
    }
   ],
   "source": [
    "import re\n",
    "def readFileData1(filename,n):\n",
    "    l=[]\n",
    "    with open(filename, 'r') as f:\n",
    "        for line in f:\n",
    "            l.append(int(line))\n",
    "        #print(l)\n",
    "        print(max(l))\n",
    "        print(min(l))\n",
    "        print(sum(l)/n)\n",
    "        count=0\n",
    "        for i in l:\n",
    "            if(i >= 80):\n",
    "                count += 1\n",
    "        print(\"students with distinction\",count)\n",
    "        count=0\n",
    "        for i in l:\n",
    "            if(i >= 60 and i<80):\n",
    "                count += 1\n",
    "        print(\"students with first clast \", count)\n",
    "        count=0\n",
    "        for i in l:\n",
    "            if(i>=50 and i<60):\n",
    "                count += 1\n",
    "        print(\"students with second clast \", count)\n",
    "        count=0\n",
    "        for i in l:\n",
    "            if(i>=40 and i<50):\n",
    "                count += 1\n",
    "        print(\"students with second clast \", count)\n",
    "        count=0\n",
    "        for i in l:\n",
    "            if(i<40):\n",
    "                count += 1\n",
    "        print(\"students failed  \", count)\n",
    "        \n",
    "        \n",
    "\n",
    "readFileData1('DataFiles/markdata.txt',1300)"
   ]
  },
  {
   "cell_type": "markdown",
   "metadata": {},
   "source": [
    "### map example"
   ]
  },
  {
   "cell_type": "code",
   "execution_count": 18,
   "metadata": {},
   "outputs": [
    {
     "name": "stdout",
     "output_type": "stream",
     "text": [
      "0.00015980199987097876\n"
     ]
    },
    {
     "data": {
      "text/plain": [
       "[1.0, 2.0, 3.0, 4.0, 5.0]"
      ]
     },
     "execution_count": 18,
     "metadata": {},
     "output_type": "execute_result"
    }
   ],
   "source": [
    "import timeit\n",
    "def square(n):\n",
    "    return n*n\n",
    "\n",
    "st = timeit.default_timer()\n",
    "li = [1,2,3,4,5]\n",
    "#s = str(li)\n",
    "s=list(map(str,li))\n",
    "s=[float(i)for i in s]\n",
    "print(timeit.default_timer()-st)\n",
    "s\n"
   ]
  },
  {
   "cell_type": "code",
   "execution_count": 26,
   "metadata": {},
   "outputs": [
    {
     "name": "stdout",
     "output_type": "stream",
     "text": [
      "100\n",
      "0\n",
      "49.997692307692304\n",
      "students with distinction 265\n",
      "students with first clast  250\n",
      "students with second clast  133\n",
      "students with second clast  129\n",
      "students failed   523\n"
     ]
    }
   ],
   "source": [
    "import re\n",
    "def readFileData1(filename,n):\n",
    "    l=[]\n",
    "    with open(filename, 'r') as f:\n",
    "        for line in f:\n",
    "            l.append(int(line))\n",
    "        #print(l)\n",
    "        print(max(l))\n",
    "        print(min(l))\n",
    "        print(sum(l)/n)\n",
    "        count=0\n",
    "        for i in l:\n",
    "            if(i >= 80):\n",
    "                count += 1\n",
    "        print(\"students with distinction\",count)\n",
    "        count=0\n",
    "        for i in l:\n",
    "            if(i >= 60 and i<80):\n",
    "                count += 1\n",
    "        print(\"students with first clast \", count)\n",
    "        count=0\n",
    "        for i in l:\n",
    "            if(i>=50 and i<60):\n",
    "                count += 1\n",
    "        print(\"students with second clast \", count)\n",
    "        count=0\n",
    "        for i in l:\n",
    "            if(i>=40 and i<50):\n",
    "                count += 1\n",
    "        print(\"students with second clast \", count)\n",
    "        count=0\n",
    "        for i in l:\n",
    "            if(i<40):\n",
    "                count += 1\n",
    "        print(\"students failed  \", count)\n",
    "    return l\n",
    "    \n",
    "        \n",
    "\n",
    "l=readFileData1('DataFiles/markdata.txt',1300)\n",
    "def distinction(mark):\n",
    "    return mark>=80\n",
    "\n",
    "dis = sum(map(distinction,l))\n"
   ]
  },
  {
   "cell_type": "code",
   "execution_count": 25,
   "metadata": {},
   "outputs": [
    {
     "data": {
      "text/plain": [
       "523"
      ]
     },
     "execution_count": 25,
     "metadata": {},
     "output_type": "execute_result"
    }
   ],
   "source": [
    "def distinction(mark):\n",
    "    return mark>=80\n",
    "\n",
    "dis = sum(map(distinction,l))\n",
    "\n",
    "failed = sum([1 for i in l if i<40])\n",
    "failed"
   ]
  },
  {
   "cell_type": "code",
   "execution_count": null,
   "metadata": {},
   "outputs": [],
   "source": []
  },
  {
   "cell_type": "code",
   "execution_count": null,
   "metadata": {},
   "outputs": [],
   "source": []
  },
  {
   "cell_type": "markdown",
   "metadata": {},
   "source": [
    "## NumPy"
   ]
  },
  {
   "cell_type": "code",
   "execution_count": 29,
   "metadata": {},
   "outputs": [
    {
     "name": "stdout",
     "output_type": "stream",
     "text": [
      "[[0 1 2]\n",
      " [3 4 5]]\n"
     ]
    }
   ],
   "source": [
    "import numpy as np\n",
    "\n",
    "a = np.array([[0, 1, 2],[3,4,5]])\n",
    "print(a)"
   ]
  },
  {
   "cell_type": "code",
   "execution_count": 30,
   "metadata": {},
   "outputs": [
    {
     "name": "stdout",
     "output_type": "stream",
     "text": [
      "[3 5 7]\n"
     ]
    }
   ],
   "source": [
    "import numpy as np\n",
    "\n",
    "a = np.array([0, 1, 2])\n",
    "b = np.array([3, 4, 5])\n",
    "print(a+b)"
   ]
  }
 ],
 "metadata": {
  "kernelspec": {
   "display_name": "Python 3",
   "language": "python",
   "name": "python3"
  }
 },
 "nbformat": 4,
 "nbformat_minor": 2
}
