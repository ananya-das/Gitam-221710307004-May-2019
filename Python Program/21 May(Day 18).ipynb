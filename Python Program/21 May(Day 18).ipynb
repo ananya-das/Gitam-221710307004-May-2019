{
 "cells": [
  {
   "cell_type": "markdown",
   "metadata": {},
   "source": [
    "# Problem Solving and Programming"
   ]
  },
  {
   "cell_type": "markdown",
   "metadata": {},
   "source": [
    "## Day No.-  18|"
   ]
  },
  {
   "cell_type": "markdown",
   "metadata": {},
   "source": [
    "## Date: 21 May 19"
   ]
  },
  {
   "cell_type": "markdown",
   "metadata": {},
   "source": [
    "# Problem1:\n",
    "#### problem statement:\n",
    "  Binary search\n",
    "\n",
    "#### Constraints:\n",
    "  \n",
    "#### Test Case\n",
    "* Test case 1\n",
    "* Test case 2\n",
    "* Test case 3"
   ]
  },
  {
   "cell_type": "code",
   "execution_count": 2,
   "metadata": {},
   "outputs": [
    {
     "name": "stdout",
     "output_type": "stream",
     "text": [
      "found\n"
     ]
    }
   ],
   "source": [
    "def binarySearch(list1, leftIndex, rightIndex, key):\n",
    "    while(leftIndex <= rightIndex):\n",
    "        midIndex = leftIndex + (rightIndex - leftIndex)//2\n",
    "        if(list1[midIndex] == key):\n",
    "            return midIndex\n",
    "        if(list1[midIndex] > key):\n",
    "            rightIndex = midIndex - 1\n",
    "        else:\n",
    "            leftIndex = midIndex + 1\n",
    "    return -1\n",
    "\n",
    "result = binarySearch([1, 12, 25, 45, 57, 99], 0, 5, 57)\n",
    "if(result != -1):\n",
    "    print('found')\n",
    "else:\n",
    "    print('not found')"
   ]
  },
  {
   "cell_type": "code",
   "execution_count": null,
   "metadata": {},
   "outputs": [],
   "source": []
  }
 ],
 "metadata": {
  "kernelspec": {
   "display_name": "Python 3",
   "language": "python",
   "name": "python3"
  },
  "language_info": {
   "codemirror_mode": {
    "name": "ipython",
    "version": 3
   },
   "file_extension": ".py",
   "mimetype": "text/x-python",
   "name": "python",
   "nbconvert_exporter": "python",
   "pygments_lexer": "ipython3",
   "version": "3.7.3"
  }
 },
 "nbformat": 4,
 "nbformat_minor": 2
}
