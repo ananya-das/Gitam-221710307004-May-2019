{
 "cells": [
  {
   "cell_type": "markdown",
   "metadata": {},
   "source": [
    "# Problem Solving and Programming"
   ]
  },
  {
   "cell_type": "markdown",
   "metadata": {},
   "source": [
    "## Day No.-  12"
   ]
  },
  {
   "cell_type": "markdown",
   "metadata": {},
   "source": [
    "## Date: 15 May 19"
   ]
  },
  {
   "cell_type": "markdown",
   "metadata": {},
   "source": [
    "## Day Outcomes:\n",
    "* Python Packages and Modules\n",
    "* Regular Expressions\n",
    "* Iterators and Generators\n",
    "* Functional Programming\n",
    "* External Libraries\n",
    "* File Handling/ Data Processing "
   ]
  },
  {
   "cell_type": "markdown",
   "metadata": {},
   "source": [
    "## Python Packages and Modules\n",
    "  Collection of Python Script"
   ]
  },
  {
   "cell_type": "code",
   "execution_count": 1,
   "metadata": {},
   "outputs": [
    {
     "data": {
      "text/plain": [
       "720"
      ]
     },
     "execution_count": 1,
     "metadata": {},
     "output_type": "execute_result"
    }
   ],
   "source": [
    "from Python.function2 import factorial\n",
    "\n",
    "factorial(6)"
   ]
  },
  {
   "cell_type": "code",
   "execution_count": 2,
   "metadata": {},
   "outputs": [
    {
     "data": {
      "text/plain": [
       "720"
      ]
     },
     "execution_count": 2,
     "metadata": {},
     "output_type": "execute_result"
    }
   ],
   "source": [
    "import Python.function2\n",
    "\n",
    "Python.function2.factorial(6)"
   ]
  },
  {
   "cell_type": "code",
   "execution_count": 3,
   "metadata": {},
   "outputs": [
    {
     "data": {
      "text/plain": [
       "1307674368000"
      ]
     },
     "execution_count": 3,
     "metadata": {},
     "output_type": "execute_result"
    }
   ],
   "source": [
    "import Python.function2 as f2\n",
    "\n",
    "f2.factorial(15)"
   ]
  },
  {
   "cell_type": "markdown",
   "metadata": {},
   "source": [
    "## Subpackage :\n",
    "  Package inside another Package"
   ]
  },
  {
   "cell_type": "code",
   "execution_count": 6,
   "metadata": {},
   "outputs": [
    {
     "data": {
      "text/plain": [
       "'pto'"
      ]
     },
     "execution_count": 6,
     "metadata": {},
     "output_type": "execute_result"
    }
   ],
   "source": [
    "import Python.String.stringfunction as p\n",
    "\n",
    "p.alternateCharacters('python')\n"
   ]
  },
  {
   "cell_type": "code",
   "execution_count": 5,
   "metadata": {},
   "outputs": [
    {
     "data": {
      "text/plain": [
       "123"
      ]
     },
     "execution_count": 5,
     "metadata": {},
     "output_type": "execute_result"
    }
   ],
   "source": [
    "from Python.String.stringfunction import *\n",
    "import math\n",
    "\n",
    "#reverseString('python')\n",
    "math.floor(123.99)"
   ]
  },
  {
   "cell_type": "code",
   "execution_count": null,
   "metadata": {},
   "outputs": [],
   "source": []
  },
  {
   "cell_type": "markdown",
   "metadata": {},
   "source": [
    "## Regular Expression \n",
    " A set of all possible values that satisfy a given pattern"
   ]
  },
  {
   "cell_type": "code",
   "execution_count": 9,
   "metadata": {},
   "outputs": [
    {
     "name": "stdout",
     "output_type": "stream",
     "text": [
      "does not match\n"
     ]
    }
   ],
   "source": [
    "import re\n",
    "\n",
    "pattern = '^g....$'\n",
    "domain= 'google'\n",
    "\n",
    "if re.match(pattern,domain):\n",
    "    print(\"match\")\n",
    "else:\n",
    "    print(\"does not match\")"
   ]
  },
  {
   "cell_type": "code",
   "execution_count": 18,
   "metadata": {},
   "outputs": [
    {
     "name": "stdout",
     "output_type": "stream",
     "text": [
      "match\n"
     ]
    }
   ],
   "source": [
    "import re\n",
    "\n",
    "pattern = '^[a-z]{3,9}$'\n",
    "domain= 'gmail'\n",
    "\n",
    "if re.match(pattern,domain):\n",
    "    print(\"match\")\n",
    "else:\n",
    "    print(\"does not match\")"
   ]
  },
  {
   "cell_type": "code",
   "execution_count": 42,
   "metadata": {},
   "outputs": [
    {
     "name": "stdout",
     "output_type": "stream",
     "text": [
      "match\n"
     ]
    }
   ],
   "source": [
    "#postal code\n",
    "\n",
    "\n",
    "import re\n",
    "\n",
    "postalCodePattern= '^[1-9][0-9]{5}$'\n",
    "code= '500001'\n",
    "if re.match(postalCodePattern,code):\n",
    "    print(\"match\")\n",
    "else:\n",
    "    print(\"does not match\")"
   ]
  },
  {
   "cell_type": "code",
   "execution_count": 46,
   "metadata": {},
   "outputs": [
    {
     "name": "stdout",
     "output_type": "stream",
     "text": [
      "match\n"
     ]
    }
   ],
   "source": [
    "#phone number with +91\n",
    "\n",
    "\n",
    "import re\n",
    "\n",
    "pattern = '^[+][9][1][6-9][0-9]{9}$'\n",
    "domain = '+919182503000'\n",
    "if re.match(pattern,domain):\n",
    "    print(\"match\")\n",
    "else:\n",
    "    print(\"does not match\")"
   ]
  },
  {
   "cell_type": "code",
   "execution_count": 43,
   "metadata": {
    "scrolled": true
   },
   "outputs": [
    {
     "name": "stdout",
     "output_type": "stream",
     "text": [
      "match\n"
     ]
    }
   ],
   "source": [
    "#phone number pattern\n",
    "\n",
    "\n",
    "import re\n",
    "\n",
    "phoneNumberPattern= '^[6-9][0-9]{9}$'\n",
    "\n",
    "ph='9000000001'\n",
    "\n",
    "if re.match(phoneNumberPattern,ph):\n",
    "    print(\"match\")\n",
    "else:\n",
    "    print(\"does not match\")"
   ]
  },
  {
   "cell_type": "code",
   "execution_count": 48,
   "metadata": {},
   "outputs": [
    {
     "name": "stdout",
     "output_type": "stream",
     "text": [
      "match\n"
     ]
    }
   ],
   "source": [
    "#email id validation\n",
    "\n",
    "import re\n",
    "\n",
    "Pattern = '^[a-z][a-z0-9_.-]{5,13}[a-z0-9][@][0-9a-z]{3,9}[.][a-z]{2,3}$'\n",
    "\n",
    "code = 'gitam_cs7@gmail.com'\n",
    "\n",
    "if re.match(Pattern,code):\n",
    "    print(\"match\")\n",
    "else:\n",
    "    print(\"does not match\")"
   ]
  },
  {
   "cell_type": "code",
   "execution_count": 55,
   "metadata": {},
   "outputs": [
    {
     "name": "stdout",
     "output_type": "stream",
     "text": [
      "enter email : gitam_cs7@gmail.com\n",
      "match\n"
     ]
    }
   ],
   "source": [
    "#email validation\n",
    "import re\n",
    "\n",
    "Pattern = '^[a-z][a-z0-9_.-]{4,13}[a-z0-9][@][0-9a-z]{3,9}[.][a-z]{2,3}$'\n",
    "\n",
    "code = input(\"enter email : \")\n",
    "\n",
    "if re.match(Pattern,code):\n",
    "    print(\"match\")\n",
    "else:\n",
    "    print(\"does not match\")"
   ]
  },
  {
   "cell_type": "code",
   "execution_count": 56,
   "metadata": {},
   "outputs": [
    {
     "name": "stdout",
     "output_type": "stream",
     "text": [
      "match\n"
     ]
    }
   ],
   "source": [
    "# password validation\n",
    "\n",
    "import re\n",
    "\n",
    "Pattern= '^[a-zA-Z][a-zA-Z-_@#$%^&*0-9]{5,18}[@#$%^&*][0-9]$'\n",
    "\n",
    "\n",
    "\n",
    "code = 'Anlsigs&_j*4'\n",
    "\n",
    "if re.match(Pattern,code):\n",
    "    print(\"match\")\n",
    "else:\n",
    "    print(\"does not match\")"
   ]
  },
  {
   "cell_type": "code",
   "execution_count": null,
   "metadata": {},
   "outputs": [],
   "source": []
  },
  {
   "cell_type": "markdown",
   "metadata": {},
   "source": [
    "## Iterators"
   ]
  },
  {
   "cell_type": "code",
   "execution_count": 66,
   "metadata": {},
   "outputs": [
    {
     "name": "stdout",
     "output_type": "stream",
     "text": [
      "1 2 3 4 5 6 1 2 3 4 5 6 "
     ]
    }
   ],
   "source": [
    "li = [1,2,3,4,5,6]\n",
    "\n",
    "for i in li:\n",
    "    print(i,end= ' ')\n",
    "\n",
    "type(li)\n",
    "it= iter(li)\n",
    "for i in it:\n",
    "    print(i,end= ' ')\n"
   ]
  },
  {
   "cell_type": "markdown",
   "metadata": {},
   "source": [
    "## Generators in python"
   ]
  },
  {
   "cell_type": "code",
   "execution_count": 64,
   "metadata": {},
   "outputs": [
    {
     "data": {
      "text/plain": [
       "285"
      ]
     },
     "execution_count": 64,
     "metadata": {},
     "output_type": "execute_result"
    }
   ],
   "source": [
    "li = [i**2 for i in range(1,10)]\n",
    "li\n",
    "\n",
    "sum(li)"
   ]
  },
  {
   "cell_type": "code",
   "execution_count": 65,
   "metadata": {},
   "outputs": [
    {
     "name": "stdout",
     "output_type": "stream",
     "text": [
      "1 8 27 64 125 216 343 512 729 1000 "
     ]
    }
   ],
   "source": [
    "gn = (i**3 for i in range(1,11))\n",
    "\n",
    "for i in gn:\n",
    "    print(i, end= ' ')"
   ]
  },
  {
   "cell_type": "code",
   "execution_count": null,
   "metadata": {},
   "outputs": [],
   "source": []
  },
  {
   "cell_type": "code",
   "execution_count": null,
   "metadata": {},
   "outputs": [],
   "source": []
  }
 ],
 "metadata": {
  "kernelspec": {
   "display_name": "Python 3",
   "language": "python",
   "name": "python3"
  }
 },
 "nbformat": 4,
 "nbformat_minor": 2
}
