{
 "cells": [
  {
   "cell_type": "markdown",
   "metadata": {},
   "source": [
    "# Problem Solving and Programming"
   ]
  },
  {
   "cell_type": "markdown",
   "metadata": {},
   "source": [
    "# Day No.-  08"
   ]
  },
  {
   "cell_type": "markdown",
   "metadata": {},
   "source": [
    "# Date: 11 May 19"
   ]
  },
  {
   "cell_type": "markdown",
   "metadata": {},
   "source": [
    "# Day Outcomes\n",
    "* Learnt to do complex python programs"
   ]
  },
  {
   "cell_type": "markdown",
   "metadata": {},
   "source": [
    "# problem1:\n",
    "  Define a function to convert a binary number to the corresponding decimal number\n",
    "### constraint:\n",
    "\n",
    "### Test Values:\n",
    "* binaryToDecimal(1100) -> 12\n",
    "* binaryToDecimal(1010) -> 10\n",
    "* binaryToDecimal(111000) -> 56"
   ]
  },
  {
   "cell_type": "code",
   "execution_count": 1,
   "metadata": {},
   "outputs": [
    {
     "data": {
      "text/plain": [
       "14"
      ]
     },
     "execution_count": 1,
     "metadata": {},
     "output_type": "execute_result"
    }
   ],
   "source": [
    "def bina(n):\n",
    "    i = 0\n",
    "    sum = 0\n",
    "    while(n != 0):\n",
    "        digit = int(n % 10)\n",
    "        sum = sum + digit*(2**i)\n",
    "        n = n/10\n",
    "        i += 1\n",
    "    return sum\n",
    "\n",
    "bina(1110)"
   ]
  },
  {
   "cell_type": "code",
   "execution_count": null,
   "metadata": {},
   "outputs": [],
   "source": []
  },
  {
   "cell_type": "markdown",
   "metadata": {},
   "source": [
    "# problem2:\n",
    "  Define a function to convert a decimal number to the corresponding binary number\n",
    "### constraint:\n",
    "\n",
    "### Test Values:\n",
    "* decimalToBinary(15) -> 1111\n",
    "* decimalToBinary(1) -> 1"
   ]
  },
  {
   "cell_type": "code",
   "execution_count": 2,
   "metadata": {},
   "outputs": [
    {
     "name": "stdout",
     "output_type": "stream",
     "text": [
      "1111"
     ]
    }
   ],
   "source": [
    "def decimalToBinary(n) :\n",
    "    if n>1:\n",
    "        decimalToBinary(n//2)\n",
    "    print(n%2, end='')\n",
    "decimalToBinary(15)\n",
    "   "
   ]
  },
  {
   "cell_type": "code",
   "execution_count": null,
   "metadata": {},
   "outputs": [],
   "source": []
  },
  {
   "cell_type": "markdown",
   "metadata": {},
   "source": [
    "# problem3:\n",
    " Define a function to check if a given year is a leap year. Returns a boolean value\n",
    "### constraint:\n",
    "\n",
    "### Test Values:\n",
    "* 2000 -> True\n",
    "* 1900 -> False\n",
    "* 2012 -> True\n",
    "* 2020 -> True\n",
    "* 0200 -> False"
   ]
  },
  {
   "cell_type": "code",
   "execution_count": 11,
   "metadata": {},
   "outputs": [
    {
     "name": "stdout",
     "output_type": "stream",
     "text": [
      "True\n",
      "False\n",
      "True\n",
      "True\n",
      "False\n"
     ]
    }
   ],
   "source": [
    "def leapYear(year):\n",
    "    if year%4 != 0:            #If year not divisible by 4 , it is not a leap year\n",
    "        return False\n",
    "    elif year%100 != 0:        #If Year is not divisible by 100 , it is a leap year\n",
    "        return True\n",
    "    elif year%400 == 0:        #If Year is divisible by 400 , it is a leap year\n",
    "        return True\n",
    "    else:\n",
    "        return False\n",
    "print(leapYear(2000))\n",
    "print(leapYear(1900))\n",
    "print(leapYear(2012))\n",
    "print(leapYear(2020))\n",
    "print(leapYear(200))\n",
    "    "
   ]
  },
  {
   "cell_type": "code",
   "execution_count": null,
   "metadata": {},
   "outputs": [],
   "source": []
  },
  {
   "cell_type": "markdown",
   "metadata": {},
   "source": [
    "# problem4:\n",
    "  Design a Python script to determine the difference in date for given two dates in YYYY:MM:DD format(0 <= YYYY <= 9999, 1 <= MM <= 12, 1 <= DD <= 31) following the leap year rules. Return the total number of days existing between the two dates.\n",
    "### constraint:\n",
    "\n",
    "### Test Values:\n",
    "* dateDifference('2019:05:10', '2019:05:01') -> 9\n",
    "* dateDifference('0003:03:03', '0003:06:06') -> 95"
   ]
  },
  {
   "cell_type": "code",
   "execution_count": 10,
   "metadata": {},
   "outputs": [
    {
     "name": "stdout",
     "output_type": "stream",
     "text": [
      "9\n",
      "95\n"
     ]
    }
   ],
   "source": [
    "from datetime import date\n",
    "def dateDifference(str1,str2):\n",
    "    y1 = int(str1[0:4])\n",
    "    m1 = int(str1[5:7])\n",
    "    d1 = int(str1[8:10])\n",
    "    y2 = int(str2[0:4])\n",
    "    m2 = int(str2[5:7])\n",
    "    d2 = int(str2[8:10])\n",
    "    x = date(y1, m1, d1)\n",
    "    y = date(y2, m2, d2)\n",
    "    dif = abs(x-y)\n",
    "    return dif.days\n",
    "print(dateDifference('2019:05:10', '2019:05:01'))\n",
    "print(dateDifference('0003:03:03', '0003:06:06'))"
   ]
  },
  {
   "cell_type": "code",
   "execution_count": 13,
   "metadata": {},
   "outputs": [
    {
     "name": "stdout",
     "output_type": "stream",
     "text": [
      "9\n",
      "95\n"
     ]
    }
   ],
   "source": [
    "\n",
    "def dateDifference(str1,str2):\n",
    "    y1 = int(str1[0:4])\n",
    "    m1 = int(str1[5:7])\n",
    "    d1 = int(str1[8:10])\n",
    "    y2 = int(str2[0:4])\n",
    "    m2 = int(str2[5:7])\n",
    "    d2 = int(str2[8:10])\n",
    "    dif = 0\n",
    "    dif += abs(y1-y2)*365\n",
    "    dif += abs(m1-m2)*30\n",
    "    dif += abs(d1-d2)\n",
    "    if y1!=y2:\n",
    "        for n in range(y1,y2+1):\n",
    "            if (n%4==0 and n%100!=0 or n%400==0):\n",
    "                dif += 1\n",
    "    if m1!=m2:\n",
    "        for n in range(m1,m2+1):\n",
    "            if (int(n) in [1,3,5,7,8,10,12]):\n",
    "                dif += 1\n",
    "            elif n==2:\n",
    "                dif -= 1\n",
    "    return dif\n",
    "print(dateDifference('2019:05:10', '2019:05:01'))\n",
    "print(dateDifference('0003:03:03', '0003:06:06'))"
   ]
  },
  {
   "cell_type": "code",
   "execution_count": null,
   "metadata": {},
   "outputs": [],
   "source": []
  },
  {
   "cell_type": "markdown",
   "metadata": {},
   "source": [
    "# problem5:\n",
    " Define a function to find the average of all the outer elements of an N x M matrix.\n",
    "### constraint:\n",
    "\n",
    "### Test Values:\n",
    "* averageOuterMatrix([[1, 2, 3], [4, 5, 6], [7, 8, 9], [10, 11, 12]] -> 4.5"
   ]
  },
  {
   "cell_type": "code",
   "execution_count": 1,
   "metadata": {},
   "outputs": [
    {
     "data": {
      "text/plain": [
       "6.5"
      ]
     },
     "execution_count": 1,
     "metadata": {},
     "output_type": "execute_result"
    }
   ],
   "source": [
    "def averageOuterMatrix(li):\n",
    "    sum=0\n",
    "    n = 0\n",
    "    for i in range(0,1):\n",
    "        for j in range(0,len(li[i])):\n",
    "            sum = sum + li[i][j]\n",
    "            n += 1\n",
    "\n",
    "    for i in range(len(li)-1 , len(li)):\n",
    "        for j in range(0,len(li[i])): \n",
    "            sum=sum + li[i][j]\n",
    "            n += 1\n",
    "    for i in range(1,len(li)-1):\n",
    "        for j in range(0,len(li[i]),2):\n",
    "            sum = sum + li[i][j]\n",
    "            n += 1\n",
    "    return sum/n\n",
    "\n",
    "averageOuterMatrix([[1,2,3],[4,5,6],[7,8,9],[10,11,12]])                       "
   ]
  },
  {
   "cell_type": "code",
   "execution_count": null,
   "metadata": {},
   "outputs": [],
   "source": []
  },
  {
   "cell_type": "code",
   "execution_count": null,
   "metadata": {},
   "outputs": [],
   "source": []
  }
 ],
 "metadata": {
  "kernelspec": {
   "display_name": "Python 3",
   "language": "python",
   "name": "python3"
  },
  "language_info": {
   "codemirror_mode": {
    "name": "ipython",
    "version": 3
   },
   "file_extension": ".py",
   "mimetype": "text/x-python",
   "name": "python",
   "nbconvert_exporter": "python",
   "pygments_lexer": "ipython3",
   "version": "3.7.3"
  }
 },
 "nbformat": 4,
 "nbformat_minor": 2
}
