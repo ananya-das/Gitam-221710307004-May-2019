{
 "cells": [
  {
   "cell_type": "markdown",
   "metadata": {},
   "source": [
    "# Problem Solving and Programming"
   ]
  },
  {
   "cell_type": "markdown",
   "metadata": {},
   "source": [
    "## Day No.-  11"
   ]
  },
  {
   "cell_type": "markdown",
   "metadata": {},
   "source": [
    "## Date: 14 May 19"
   ]
  },
  {
   "cell_type": "markdown",
   "metadata": {},
   "source": [
    "# Problem1:\n",
    "  Program to print the outer matrix \n",
    "### constraint:\n",
    "\n",
    "### Test Values:\n",
    "* outerMatrix( [[1,2,3],[4,5,6],[7,8,9],[10,11,12]]) -> 1 2 3 6 9 12 11 10 7 4 "
   ]
  },
  {
   "cell_type": "code",
   "execution_count": 126,
   "metadata": {},
   "outputs": [
    {
     "name": "stdout",
     "output_type": "stream",
     "text": [
      "1 2 3 6 9 12 11 10 7 4 "
     ]
    }
   ],
   "source": [
    "def rowPrint(a, r, rs, nc):\n",
    "    for i in range(rs, nc):\n",
    "        print(a[r][i], end=' ')\n",
    "        \n",
    "def columnPrint(a, c, cs, nr):\n",
    "    for i in range(cs, nr):\n",
    "        print(a[i][c], end=' ')\n",
    "        \n",
    "        \n",
    "def reverseRowPrint(a, r,rs, nc):\n",
    "    for i in range(nc-rs-1, -1, -1):\n",
    "        print(a[r][i], end=' ')\n",
    "        \n",
    "def reverseColumnPrint(a,c, cs, cstp, nr):\n",
    "    for i in range(nr-1-cs, cstp,-1):\n",
    "        print(a[i][c], end=' ')\n",
    "        \n",
    "def outermatrix(m1, nr, nc):\n",
    "    rowPrint(m1, 0, 0, nc)\n",
    "    columnPrint(m1, nc-1, 1, nr)\n",
    "    reverseRowPrint(m1, nr-1, nc-2, nc)\n",
    "    reverseColumnPrint(m1, 0, nr-3,0, nr)\n",
    "    \n",
    "        \n",
    "m1 = [[1,2,3],[4,5,6],[7,8,9],[10,11,12]]\n",
    "#rowPrint(m1,0,2)\n",
    "#columnPrint(m1,2,3)\n",
    "#reverseRowPrint(m1,2,3)\n",
    "#reverseColumnPrint(m1,0,1,3)\n",
    "outermatrix(m1,4,3)"
   ]
  }
 ],
 "metadata": {
  "kernelspec": {
   "display_name": "Python 3",
   "language": "python",
   "name": "python3"
  },
  "language_info": {
   "codemirror_mode": {
    "name": "ipython",
    "version": 3
   },
   "file_extension": ".py",
   "mimetype": "text/x-python",
   "name": "python",
   "nbconvert_exporter": "python",
   "pygments_lexer": "ipython3",
   "version": "3.7.3"
  }
 },
 "nbformat": 4,
 "nbformat_minor": 2
}
