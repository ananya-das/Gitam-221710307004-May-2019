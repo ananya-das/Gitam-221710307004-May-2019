{
 "cells": [
  {
   "cell_type": "markdown",
   "metadata": {},
   "source": [
    "# Problem Solving and Programming"
   ]
  },
  {
   "cell_type": "markdown",
   "metadata": {},
   "source": [
    "# Day No.-  09"
   ]
  },
  {
   "cell_type": "markdown",
   "metadata": {},
   "source": [
    "# Date: 12 May 19"
   ]
  },
  {
   "cell_type": "code",
   "execution_count": null,
   "metadata": {},
   "outputs": [],
   "source": []
  },
  {
   "cell_type": "markdown",
   "metadata": {},
   "source": [
    "# problem1:\n",
    "  Define a function to print the sequence of spiral pattern elements for a given N x N matrix\n",
    "### constraint:\n",
    "  \n",
    "\n",
    "### Test Values:\n",
    "* spiralPattern([[1,2,3], [4,5,6], [7,8,9]]) -> 1 2 3 6 9 8 7 4 5"
   ]
  },
  {
   "cell_type": "code",
   "execution_count": 4,
   "metadata": {},
   "outputs": [
    {
     "name": "stdout",
     "output_type": "stream",
     "text": [
      "1 2 3 6 9 12 11 10 7 4 "
     ]
    }
   ],
   "source": [
    "li = [[1,2,3],[4,5,6],[7,8,9],[10,11,12]]\n",
    "def spiralMatrix(li):\n",
    "    for i in range(0,1):\n",
    "        for j in range(0,len(li[i])):\n",
    "            print(li[i][j], end = \" \")\n",
    "            \n",
    "    for i in range(1,3):\n",
    "        print(li[i][j], end = \" \")\n",
    "        \n",
    "    for i in range(3, 4):\n",
    "        for j in range(2, -1,-1):\n",
    "            print(li[i][j], end = \" \")\n",
    "            \n",
    "    for i in range(2,0,-1):\n",
    "        print(li[i][j], end = \" \")\n",
    "    \n",
    "    \n",
    "            \n",
    "    \n",
    "spiralMatrix(li)       "
   ]
  },
  {
   "cell_type": "code",
   "execution_count": null,
   "metadata": {},
   "outputs": [],
   "source": []
  },
  {
   "cell_type": "markdown",
   "metadata": {},
   "source": [
    "# problem2:\n",
    "  You are given n words. Some words may repeat. For each word, output its number of occurrences. The output order should correspond with the input order of appearance of the word. \n",
    "### constraint:\n",
    "  First line of input contains the total number of words n. Next n lines contain words that need to processed.\n",
    "\n",
    "  First line of the output should contain the total number distinct words. Second line of output must contain the frequency of   words the same order of their appearance as in the input\n",
    "\n",
    "### Test Values:\n",
    "* 6\n",
    "\n",
    "   abcd\n",
    "\n",
    "   ijkl\n",
    "\n",
    "   abcd\n",
    "\n",
    "   pqrs\n",
    "\n",
    "  abcd\n",
    "\n",
    "  ijkl"
   ]
  },
  {
   "cell_type": "code",
   "execution_count": 5,
   "metadata": {},
   "outputs": [
    {
     "name": "stdout",
     "output_type": "stream",
     "text": [
      "3 2 1 "
     ]
    }
   ],
   "source": [
    "def wordCount(wc, words):\n",
    "    j = 0\n",
    "    list1 = []\n",
    "    dict1 = {}\n",
    "    for i in range(0, len(words)):\n",
    "        if(words[i] == ' '):\n",
    "            list1.append(words[j:i])\n",
    "            j = i+1\n",
    "            \n",
    "    j = len(words)-1\n",
    "    for i in range(len(words)-1, -1, -1):\n",
    "        if(words[i] == ' '):\n",
    "            list1.append(words[i+1:j+1])\n",
    "            break\n",
    "\n",
    "    for i in list1:\n",
    "        count = 1\n",
    "        if(i in dict1):\n",
    "            dict1[i] += 1\n",
    "        else:\n",
    "            dict1[i] = 1\n",
    "    for i in dict1:\n",
    "        print(dict1[i], end=' ')\n",
    "wordCount(6, 'abcd ijkl abcd pqrs abcd ijkl')"
   ]
  },
  {
   "cell_type": "code",
   "execution_count": null,
   "metadata": {},
   "outputs": [],
   "source": []
  }
 ],
 "metadata": {
  "kernelspec": {
   "display_name": "Python 3",
   "language": "python",
   "name": "python3"
  },
  "language_info": {
   "codemirror_mode": {
    "name": "ipython",
    "version": 3
   },
   "file_extension": ".py",
   "mimetype": "text/x-python",
   "name": "python",
   "nbconvert_exporter": "python",
   "pygments_lexer": "ipython3",
   "version": "3.7.3"
  }
 },
 "nbformat": 4,
 "nbformat_minor": 2
}
