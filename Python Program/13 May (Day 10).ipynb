{
 "cells": [
  {
   "cell_type": "markdown",
   "metadata": {},
   "source": [
    "# Problem Solving and Programming"
   ]
  },
  {
   "cell_type": "markdown",
   "metadata": {},
   "source": [
    "## Day No.-  10"
   ]
  },
  {
   "cell_type": "markdown",
   "metadata": {},
   "source": [
    "## Date: 13 May 19"
   ]
  },
  {
   "cell_type": "markdown",
   "metadata": {},
   "source": [
    "# problem1:\n",
    "  Design a Python script to determine the difference in date for given two dates in YYYY:MM:DD format(0 <= YYYY <= 9999, 1 <= MM <= 12, 1 <= DD <= 31) following the leap year rules. Return the total number of days existing between the two dates.\n",
    "### constraint:\n",
    "\n",
    "### Test Values:\n",
    "* dateDifference('2019:05:10', '2019:05:01') -> 9\n",
    "* dateDifference('0003:03:03', '0003:06:06') -> 95"
   ]
  },
  {
   "cell_type": "code",
   "execution_count": 3,
   "metadata": {},
   "outputs": [
    {
     "data": {
      "text/plain": [
       "95"
      ]
     },
     "execution_count": 3,
     "metadata": {},
     "output_type": "execute_result"
    }
   ],
   "source": [
    "def datedifference(date1,date2):\n",
    "    if yearfromdate(date1) == yearfromdate(date2):\n",
    "        return abs(totaldaysdate(date1) - totaldaysdate(date2))\n",
    "    elif yearfromdate(date2) - yearfromdate(date1) == 1:\n",
    "        return totalDaysDateEndYear(date1) + totaldaysdate(date2)\n",
    "    else:\n",
    "        sum = totalDaysDateEndYear(date1) + totaldaysdate(date2)\n",
    "        year1 = yearfromdate(date1)\n",
    "        year2 = yearfromdate(date2)\n",
    "        for i in range(year+1, year2):\n",
    "            sum += numdaysinyear(i)\n",
    "        return sum\n",
    "\n",
    "def dateinFeb(n):\n",
    "    if (n%4==0 and n%100!=0 or n%400==0):\n",
    "        return 29\n",
    "    return 28\n",
    "\n",
    "\n",
    "def numdaysinmonth(month,year):\n",
    "    monthDays = {'01':31, '03':31, '04':30, '05':31, '06':30, '07':31, '08':31, '09':30, '10':31, '11':30, '12':31 }\n",
    "    if(month == 2):\n",
    "        return dateinFeb(year)\n",
    "    elif (month < 7 and month !=2 and month % 2 == 0) or (month>7 and month % 2 != 0):\n",
    "        return 30   \n",
    "    else:\n",
    "        return 31\n",
    "    \n",
    "def numdaysinyear(year):\n",
    "    if dateinFeb(year) == 29:\n",
    "        return 366\n",
    "    return 365\n",
    "\n",
    "#this function returns total number of days completed till the given date\n",
    "def totaldaysdate(date):\n",
    "    year = yearfromdate(date)\n",
    "    month =monthfromdate(date) \n",
    "    day = daysfromdate(date)\n",
    "    sum = 0\n",
    "    for i in range(1, month):\n",
    "        sum += numdaysinmonth(i, year)\n",
    "    sum += ( day)\n",
    "    return sum\n",
    "\n",
    "def totalDaysDateEndYear(date):\n",
    "    year = yearfromdate(date)\n",
    "    month =monthfromdate(date) \n",
    "    day = daysfromdate(date)\n",
    "    sum=0\n",
    "    for i in range( month+1,13):\n",
    "        sum += numdaysinmonth(i, year)\n",
    "    sum += (numdaysinmonth(month,year)- day +1)\n",
    "    return sum\n",
    "    \n",
    "\n",
    "def  yearfromdate(date):\n",
    "    return int(int(date[:4]))\n",
    "def monthfromdate(date):\n",
    "    return int( int(date[5:7]))\n",
    "def daysfromdate(date):\n",
    "    return(int(date[len(date)-2:]))\n",
    "    \n",
    "    \n",
    "#datedifference('0001:01:31','0002:01:31')\n",
    "\n",
    "datedifference('0003:03:03', '0003:06:06')"
   ]
  },
  {
   "cell_type": "code",
   "execution_count": null,
   "metadata": {},
   "outputs": [],
   "source": []
  },
  {
   "cell_type": "markdown",
   "metadata": {},
   "source": [
    "# problem2:\n",
    "  Define a function that take an array of integers A, and an integer K and returns the longest possible sub-set of A i.e A' such that the sum of no two elements in A' is divisible by K.\n",
    "### constraint:\n",
    "  First line in input contains the length of A and the integer K. Second line of input contains len(A) space-separated integers.\n",
    "\n",
    "Output must contain the length of A' list\n",
    "### Test Values:\n",
    "* 4  3\n",
    "\n",
    "  1 7 2 4"
   ]
  },
  {
   "cell_type": "code",
   "execution_count": 4,
   "metadata": {},
   "outputs": [
    {
     "data": {
      "text/plain": [
       "3"
      ]
     },
     "execution_count": 4,
     "metadata": {},
     "output_type": "execute_result"
    }
   ],
   "source": [
    "def arr(li,k):\n",
    "    li2=[]\n",
    "    sum = 0\n",
    "    for i in range(0,len(li)):\n",
    "        for j in range(i+1, len(li) ):\n",
    "            if((li[i]+li[j]) % k != 0):\n",
    "                sum = li[i]+li[j]\n",
    "                li2.append(sum)\n",
    "    #print(li2)\n",
    "    return (len(li2))\n",
    "arr([1,7,2,4],3)"
   ]
  },
  {
   "cell_type": "code",
   "execution_count": null,
   "metadata": {},
   "outputs": [],
   "source": []
  }
 ],
 "metadata": {
  "kernelspec": {
   "display_name": "Python 3",
   "language": "python",
   "name": "python3"
  },
  "language_info": {
   "codemirror_mode": {
    "name": "ipython",
    "version": 3
   },
   "file_extension": ".py",
   "mimetype": "text/x-python",
   "name": "python",
   "nbconvert_exporter": "python",
   "pygments_lexer": "ipython3",
   "version": "3.7.3"
  }
 },
 "nbformat": 4,
 "nbformat_minor": 2
}
